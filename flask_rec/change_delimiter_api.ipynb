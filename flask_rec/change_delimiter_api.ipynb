{
 "cells": [
  {
   "cell_type": "code",
   "execution_count": 1,
   "id": "d3c43141",
   "metadata": {},
   "outputs": [],
   "source": [
    "import sys\n",
    "import pandas as pd\n",
    "import numpy as np\n",
    "import os"
   ]
  },
  {
   "cell_type": "code",
   "execution_count": 7,
   "id": "4ceff189",
   "metadata": {},
   "outputs": [],
   "source": [
    "\n",
    "def change_delimiter(data):\n",
    "    data = np.char.replace(data, \"',\", \"  ^\")\n",
    "    data = np.char.replace(data, \"\\\"\", \"  ^\")\n",
    "    data = np.char.replace(data, \"'\", \" \")\n",
    "    data = np.char.replace(data, \" u \", \" \")\n",
    "    return data"
   ]
  },
  {
   "cell_type": "code",
   "execution_count": 11,
   "id": "ab0acfab",
   "metadata": {},
   "outputs": [],
   "source": [
    "df = pd.read_csv('small_clean_data.csv')"
   ]
  },
  {
   "cell_type": "code",
   "execution_count": 12,
   "id": "550ae7b1",
   "metadata": {},
   "outputs": [],
   "source": [
    "df['cooking_directions'] =  df['cooking_directions'].apply(lambda x: change_delimiter(x))"
   ]
  },
  {
   "cell_type": "code",
   "execution_count": 14,
   "id": "1ce9c59f",
   "metadata": {},
   "outputs": [
    {
     "data": {
      "text/plain": [
       "'[  ^ directions : Prep  ^,  15 m  ^  Cook  ^  5 m  ^  Ready In  ^  20 m  ^  Preheat a panini grill.  ^  Slice each quarter of focaccia bread in half horizontally. Spread each half with pesto. Layer bottom halves with equal amounts chicken, bell pepper, onion, and cheese. Top with remaining focaccia halves, forming 4 sandwiches.  ^   ^Grill paninis 5 minutes in the preheated grill, or until focaccia bread is golden brown and cheese is melted.   ^]'"
      ]
     },
     "execution_count": 14,
     "metadata": {},
     "output_type": "execute_result"
    }
   ],
   "source": [
    "df['cooking_directions'][0]"
   ]
  }
 ],
 "metadata": {
  "kernelspec": {
   "display_name": "Python 3 (ipykernel)",
   "language": "python",
   "name": "python3"
  },
  "language_info": {
   "codemirror_mode": {
    "name": "ipython",
    "version": 3
   },
   "file_extension": ".py",
   "mimetype": "text/x-python",
   "name": "python",
   "nbconvert_exporter": "python",
   "pygments_lexer": "ipython3",
   "version": "3.9.7"
  }
 },
 "nbformat": 4,
 "nbformat_minor": 5
}
