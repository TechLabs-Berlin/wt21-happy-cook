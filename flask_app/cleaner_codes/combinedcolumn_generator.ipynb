{
 "cells": [
  {
   "cell_type": "code",
   "execution_count": 24,
   "id": "5d46f37d",
   "metadata": {},
   "outputs": [],
   "source": [
    "import sys\n",
    "import pandas as pd\n",
    "import numpy as np\n",
    "import os\n",
    "import matplotlib.pyplot as plt\n",
    "from collections import Counter\n",
    "#import advertools as adv\n",
    "from sklearn.feature_extraction.text import CountVectorizer\n",
    "\n",
    "from nltk.corpus import stopwords\n",
    "from nltk.tokenize import word_tokenize\n",
    "from nltk.stem import PorterStemmer\n",
    "from collections import Counter\n",
    "#from num2words import num2words\n",
    "\n",
    "import nltk\n",
    "import os\n",
    "import string\n",
    "import numpy as np\n",
    "import copy\n",
    "import pandas as pd\n",
    "import pickle\n",
    "import re\n",
    "import math\n",
    "from scipy.special import logsumexp"
   ]
  },
  {
   "cell_type": "code",
   "execution_count": 12,
   "id": "f64f424f",
   "metadata": {},
   "outputs": [],
   "source": [
    "RD = pd.read_csv('raw_data_recipe.csv')"
   ]
  },
  {
   "cell_type": "code",
   "execution_count": 13,
   "id": "58f370b6",
   "metadata": {
    "scrolled": true
   },
   "outputs": [
    {
     "name": "stdout",
     "output_type": "stream",
     "text": [
      "(49698, 9)\n"
     ]
    }
   ],
   "source": [
    "print(RD.shape)"
   ]
  },
  {
   "cell_type": "code",
   "execution_count": 155,
   "id": "811a1ff0",
   "metadata": {
    "scrolled": true
   },
   "outputs": [
    {
     "name": "stdout",
     "output_type": "stream",
     "text": [
      "Index(['recipe_id', 'recipe_name', 'aver_rate', 'image_url', 'review_nums',\n",
      "       'ingredients', 'cooking_directions', 'nutritions', 'reviews'],\n",
      "      dtype='object')\n"
     ]
    }
   ],
   "source": [
    "print(RD.columns)"
   ]
  },
  {
   "cell_type": "code",
   "execution_count": 156,
   "id": "79358997",
   "metadata": {
    "scrolled": true
   },
   "outputs": [
    {
     "name": "stdout",
     "output_type": "stream",
     "text": [
      "<class 'pandas.core.frame.DataFrame'>\n",
      "RangeIndex: 49698 entries, 0 to 49697\n",
      "Data columns (total 9 columns):\n",
      " #   Column              Non-Null Count  Dtype  \n",
      "---  ------              --------------  -----  \n",
      " 0   recipe_id           49698 non-null  int64  \n",
      " 1   recipe_name         49698 non-null  object \n",
      " 2   aver_rate           49698 non-null  float64\n",
      " 3   image_url           49698 non-null  object \n",
      " 4   review_nums         49698 non-null  int64  \n",
      " 5   ingredients         49698 non-null  object \n",
      " 6   cooking_directions  49698 non-null  object \n",
      " 7   nutritions          49698 non-null  object \n",
      " 8   reviews             49698 non-null  object \n",
      "dtypes: float64(1), int64(2), object(6)\n",
      "memory usage: 3.4+ MB\n",
      "None\n"
     ]
    }
   ],
   "source": [
    "print(RD.info())"
   ]
  },
  {
   "cell_type": "code",
   "execution_count": 180,
   "id": "2bc30db6",
   "metadata": {},
   "outputs": [],
   "source": [
    "IG = RD['ingredients']"
   ]
  },
  {
   "cell_type": "code",
   "execution_count": 159,
   "id": "67b73fab",
   "metadata": {},
   "outputs": [
    {
     "name": "stdout",
     "output_type": "stream",
     "text": [
      "showing info https://raw.githubusercontent.com/nltk/nltk_data/gh-pages/index.xml\n"
     ]
    },
    {
     "data": {
      "text/plain": [
       "True"
      ]
     },
     "execution_count": 159,
     "metadata": {},
     "output_type": "execute_result"
    }
   ],
   "source": [
    "import nltk\n",
    "nltk.download()"
   ]
  },
  {
   "cell_type": "code",
   "execution_count": 160,
   "id": "701284b6",
   "metadata": {},
   "outputs": [],
   "source": [
    " from nltk.tokenize import sent_tokenize, word_tokenize"
   ]
  },
  {
   "cell_type": "code",
   "execution_count": 172,
   "id": "fb81df4f",
   "metadata": {},
   "outputs": [],
   "source": [
    "RD['ingredients'] = RD['ingredients'].astype('str') "
   ]
  },
  {
   "cell_type": "code",
   "execution_count": 181,
   "id": "5539ab5a",
   "metadata": {},
   "outputs": [],
   "source": [
    "IG = RD['ingredients']"
   ]
  },
  {
   "cell_type": "code",
   "execution_count": 163,
   "id": "0f13ba5b",
   "metadata": {},
   "outputs": [],
   "source": [
    "from nltk import PorterStemmer"
   ]
  },
  {
   "cell_type": "code",
   "execution_count": 164,
   "id": "440c7beb",
   "metadata": {},
   "outputs": [],
   "source": [
    "import string\n",
    "from nltk.tokenize import word_tokenize\n",
    "from nltk.corpus import stopwords, wordnet\n",
    "pd.options.mode.chained_assignment = None\n",
    "pd.set_option('display.max_colwidth', 100)"
   ]
  },
  {
   "cell_type": "code",
   "execution_count": 165,
   "id": "d26d569c",
   "metadata": {
    "scrolled": true
   },
   "outputs": [
    {
     "name": "stdout",
     "output_type": "stream",
     "text": [
      "recipe_id 0\n",
      "recipe_name 0\n",
      "aver_rate 0\n",
      "image_url 0\n",
      "review_nums 0\n",
      "ingredients 0\n",
      "cooking_directions 0\n",
      "nutritions 0\n",
      "reviews 0\n"
     ]
    }
   ],
   "source": [
    "for col in RD.columns:\n",
    "    print(col, RD[col].isnull().sum())"
   ]
  },
  {
   "cell_type": "code",
   "execution_count": 199,
   "id": "729057f6",
   "metadata": {
    "scrolled": true
   },
   "outputs": [],
   "source": [
    "RD['ingredients'] = [''.join(map(str, l)) for l in RD['ingredients']]"
   ]
  },
  {
   "cell_type": "code",
   "execution_count": null,
   "id": "06567b3b",
   "metadata": {},
   "outputs": [],
   "source": [
    "RD['ingredients1'] = RD['ingredients'].replace('^',' ')"
   ]
  },
  {
   "cell_type": "code",
   "execution_count": null,
   "id": "b1c93a0a",
   "metadata": {},
   "outputs": [],
   "source": [
    "print(RD)"
   ]
  },
  {
   "cell_type": "code",
   "execution_count": 19,
   "id": "5823fa56",
   "metadata": {},
   "outputs": [
    {
     "name": "stdout",
     "output_type": "stream",
     "text": [
      "Index(['recipe_id', 'recipe_name', 'aver_rate', 'image_url', 'review_nums',\n",
      "       'ingredients', 'cooking_directions', 'nutritions', 'reviews'],\n",
      "      dtype='object')\n"
     ]
    }
   ],
   "source": [
    "print(RD.columns)"
   ]
  },
  {
   "cell_type": "code",
   "execution_count": 25,
   "id": "d4800080",
   "metadata": {},
   "outputs": [],
   "source": [
    "def convert_lower_case(data):\n",
    "    return np.char.lower(data)"
   ]
  },
  {
   "cell_type": "code",
   "execution_count": 26,
   "id": "141956a2",
   "metadata": {},
   "outputs": [],
   "source": [
    "def remove_stop_words(data):\n",
    "    stop_words = stopwords.words('english')\n",
    "    words = word_tokenize(str(data))\n",
    "    new_text = \"\"\n",
    "    for w in words:\n",
    "        if w not in stop_words and len(w) > 1:\n",
    "            new_text = new_text + \" \" + w\n",
    "    return new_text"
   ]
  },
  {
   "cell_type": "code",
   "execution_count": 27,
   "id": "cb89d6bb",
   "metadata": {},
   "outputs": [],
   "source": [
    "def remove_apostrophe(data):\n",
    "    return np.char.replace(data, \"'\", \"\")"
   ]
  },
  {
   "cell_type": "code",
   "execution_count": 28,
   "id": "b4e27b5e",
   "metadata": {},
   "outputs": [],
   "source": [
    "def stemming(data):\n",
    "    stemmer= PorterStemmer()\n",
    "    \n",
    "    tokens = word_tokenize(str(data))\n",
    "    new_text = \"\"\n",
    "    for w in tokens:\n",
    "        new_text = new_text + \" \" + stemmer.stem(w)\n",
    "    return new_text"
   ]
  },
  {
   "cell_type": "code",
   "execution_count": 29,
   "id": "61714c3d",
   "metadata": {},
   "outputs": [],
   "source": [
    "def convert_numbers(data):\n",
    "    tokens = word_tokenize(str(data))\n",
    "    \n",
    "    new_text = \"\"\n",
    "    for w in tokens:\n",
    "\n",
    "        for character in w:\n",
    "            if character.isdigit():\n",
    "                w = re.sub(\"[A-Za-z]+\", lambda ele: \" \" + ele[0] + \" \", w)\n",
    "        \n",
    "        try:\n",
    "            \n",
    "            w = num2words(int(w))\n",
    "        except:\n",
    "            a = 0\n",
    "        new_text = new_text + \" \" + w\n",
    "        \n",
    "    new_text = np.char.replace(new_text, \"-\", \" \")\n",
    "    \n",
    "    return new_text"
   ]
  },
  {
   "cell_type": "code",
   "execution_count": 30,
   "id": "13d6a7b0",
   "metadata": {},
   "outputs": [],
   "source": [
    "def remove_punctuation(data):\n",
    "    symbols = \"!\\\"#$%&()*+-./:;<=>?@[\\]^_`{|}~\"\n",
    "    \n",
    "    data = np.char.replace(data, \" m\\\\n\", ' minutes ' )\n",
    "    data = np.char.replace(data, 'h\\\\', ' hours ')\n",
    "    data = np.char.replace(data, ' h ', ' hours ')\n",
    "\n",
    "    data = np.char.replace(data, \"\\\\n\", ' ')\n",
    "\n",
    "    for i in range(len(symbols)):\n",
    "        \n",
    "        data = np.char.replace(data, symbols[i], ' ')\n",
    "        data = np.char.replace(data, \"  \", \" \")\n",
    "        \n",
    "    data = np.char.replace(data, ',', '')\n",
    "    data = np.char.replace(data, ' f ', ' fahrenheit ')\n",
    "    data = np.char.replace(data, ' c ', ' celcius ')\n",
    "    data = np.char.replace(data, \" u'\", ' ' )\n",
    "\n",
    "    return data"
   ]
  },
  {
   "cell_type": "code",
   "execution_count": 31,
   "id": "dd70e8bc",
   "metadata": {},
   "outputs": [],
   "source": [
    "def remove_otherwords(data):\n",
    "    data = np.char.replace(data, 'prep', ' ')\n",
    "    data = np.char.replace(data, 'directions', ' ')\n",
    "    return data"
   ]
  },
  {
   "cell_type": "code",
   "execution_count": 32,
   "id": "35187c5b",
   "metadata": {},
   "outputs": [],
   "source": [
    "def preprocess(data):\n",
    "    data = convert_lower_case(data)\n",
    "    data = convert_numbers(data)\n",
    "    data = remove_punctuation(data) \n",
    "    data = convert_numbers(data)\n",
    "    data = remove_apostrophe(data)\n",
    "    data = remove_stop_words(data)\n",
    "    data = convert_numbers(data)\n",
    "    data = remove_punctuation(data)\n",
    "    data = convert_numbers(data)\n",
    "    data = remove_stop_words(data) \n",
    "    return data"
   ]
  },
  {
   "cell_type": "code",
   "execution_count": 33,
   "id": "a0c576e4",
   "metadata": {},
   "outputs": [],
   "source": [
    "processed_text = []\n",
    "for text in RD['cooking_directions']:\n",
    "    processed_text.append(word_tokenize(preprocess(text)))"
   ]
  },
  {
   "cell_type": "code",
   "execution_count": 37,
   "id": "162cacce",
   "metadata": {},
   "outputs": [
    {
     "name": "stdout",
     "output_type": "stream",
     "text": [
      " directions prep ncook hours 45 minutes ready 11 hours 50 minutes preheat oven 200 degrees fahrenheit 95 degrees celcius season pork belly paprika salt pepper tightly wrap pork twice heavy duty aluminum foil place baking sheet bake preheated oven hours turn oven let pork rest oven hour remove meat oven leaving wrapped aluminum foil refrigerate least hours overnight remove pork foil slice across grain inch thick slices working batches cook pork non stick skillet medium heat golden crisped minutes per slice\n"
     ]
    }
   ],
   "source": [
    "print(preprocess(RD['cooking_directions'][0]))"
   ]
  },
  {
   "cell_type": "code",
   "execution_count": 38,
   "id": "fa5a05b0",
   "metadata": {},
   "outputs": [],
   "source": [
    "processed_text = []\n",
    "for text in RD['ingredients']:\n",
    "    processed_text.append(word_tokenize(preprocess(text)))"
   ]
  },
  {
   "cell_type": "code",
   "execution_count": 39,
   "id": "9efbf0b3",
   "metadata": {
    "scrolled": true
   },
   "outputs": [
    {
     "name": "stdout",
     "output_type": "stream",
     "text": [
      " pork belly smoked paprika kosher salt ground black pepper\n"
     ]
    }
   ],
   "source": [
    "print(preprocess(RD['ingredients'][0]))"
   ]
  },
  {
   "cell_type": "code",
   "execution_count": 41,
   "id": "12fcf34a",
   "metadata": {},
   "outputs": [
    {
     "name": "stdout",
     "output_type": "stream",
     "text": [
      " directions prep ncook hours 45 minutes ready 11 hours 50 minutes preheat oven 200 degrees fahrenheit 95 degrees celcius season pork belly paprika salt pepper tightly wrap pork twice heavy duty aluminum foil place baking sheet bake preheated oven hours turn oven let pork rest oven hour remove meat oven leaving wrapped aluminum foil refrigerate least hours overnight remove pork foil slice across grain inch thick slices working batches cook pork non stick skillet medium heat golden crisped minutes per slice\n",
      " pork belly smoked paprika kosher salt ground black pepper\n"
     ]
    }
   ],
   "source": [
    "print(preprocess(RD['cooking_directions'][0]))\n",
    "print(preprocess(RD['ingredients'][0]))"
   ]
  },
  {
   "cell_type": "code",
   "execution_count": 46,
   "id": "9b9f3f41",
   "metadata": {},
   "outputs": [
    {
     "name": "stdout",
     "output_type": "stream",
     "text": [
      " pork belly smoked paprika kosher salt ground black pepper directions prep ncook hours 45 minutes ready 11 hours 50 minutes preheat oven 200 degrees fahrenheit 95 degrees celcius season pork belly paprika salt pepper tightly wrap pork twice heavy duty aluminum foil place baking sheet bake preheated oven hours turn oven let pork rest oven hour remove meat oven leaving wrapped aluminum foil refrigerate least hours overnight remove pork foil slice across grain inch thick slices working batches cook pork non stick skillet medium heat golden crisped minutes per slice\n"
     ]
    }
   ],
   "source": [
    "print(preprocess(RD['cooking_directions'][0]))"
   ]
  },
  {
   "cell_type": "code",
   "execution_count": 48,
   "id": "96a874f4",
   "metadata": {},
   "outputs": [],
   "source": [
    "RD[\"Total\"] = \"\"\n",
    "RD.to_csv(\"raw_data_recipe.csv\", index=False)"
   ]
  },
  {
   "cell_type": "code",
   "execution_count": 50,
   "id": "c6638c1b",
   "metadata": {},
   "outputs": [],
   "source": [
    "RD[\"Total\"] =RD[\"recipe_name\"] + RD[\"ingredients\"] + RD[\"cooking_directions\"]"
   ]
  },
  {
   "cell_type": "code",
   "execution_count": 51,
   "id": "edfabb7e",
   "metadata": {},
   "outputs": [
    {
     "name": "stdout",
     "output_type": "stream",
     "text": [
      " homemade baconpork belly smoked paprika kosher salt ground black pepperpork belly smoked paprika kosher salt ground black pepper directions prep ncook hours 45 minutes ready 11 hours 50 minutes preheat oven 200 degrees fahrenheit 95 degrees celcius season pork belly paprika salt pepper tightly wrap pork twice heavy duty aluminum foil place baking sheet bake preheated oven hours turn oven let pork rest oven hour remove meat oven leaving wrapped aluminum foil refrigerate least hours overnight remove pork foil slice across grain inch thick slices working batches cook pork non stick skillet medium heat golden crisped minutes per slice\n"
     ]
    }
   ],
   "source": [
    "print(preprocess(RD['Total'][0]))"
   ]
  }
 ],
 "metadata": {
  "kernelspec": {
   "display_name": "Python 3 (ipykernel)",
   "language": "python",
   "name": "python3"
  },
  "language_info": {
   "codemirror_mode": {
    "name": "ipython",
    "version": 3
   },
   "file_extension": ".py",
   "mimetype": "text/x-python",
   "name": "python",
   "nbconvert_exporter": "python",
   "pygments_lexer": "ipython3",
   "version": "3.9.7"
  }
 },
 "nbformat": 4,
 "nbformat_minor": 5
}
