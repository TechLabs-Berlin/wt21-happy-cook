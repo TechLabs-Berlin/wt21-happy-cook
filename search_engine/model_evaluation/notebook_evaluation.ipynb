{
 "cells": [
  {
   "cell_type": "markdown",
   "id": "f83a32ed",
   "metadata": {},
   "source": [
    "# Template for Model Evaluation\n",
    "\n",
    "template written by Nisa Ulumuddin\n",
    "\n",
    "evaluation done by Nisa Ulumuddin "
   ]
  },
  {
   "cell_type": "code",
   "execution_count": 1,
   "id": "4d8ecdb0",
   "metadata": {},
   "outputs": [],
   "source": [
    "import sys\n",
    "import pandas as pd\n",
    "import numpy as np\n",
    "import os\n",
    "import matplotlib.pyplot as plt\n",
    "from collections import Counter\n",
    "import advertools as adv\n",
    "from sklearn.feature_extraction.text import CountVectorizer\n",
    "from nltk.corpus import stopwords\n",
    "from nltk.tokenize import word_tokenize\n",
    "from nltk.stem import PorterStemmer\n",
    "from collections import Counter\n",
    "from num2words import num2words\n",
    "import os\n",
    "import numpy as np\n",
    "import pandas as pd\n",
    "import sklearn.metrics as met\n",
    "from scipy.spatial.distance import euclidean\n",
    "import sklearn.metrics as metrics\n",
    "from random import randint\n",
    "\n",
    "import func_similarityfunc as sim\n",
    "import func_tfidf as tfidf\n",
    "import func_datapreprocessing as pp\n",
    "import func_predict as pred \n",
    "import func_eval as eve"
   ]
  },
  {
   "cell_type": "code",
   "execution_count": 2,
   "id": "8c3cffcc",
   "metadata": {},
   "outputs": [],
   "source": [
    "rd_recipe = pd.read_csv('clean_recipe_data.csv')\n",
    "eval_recipe = pd.read_csv('model_dataset.csv')"
   ]
  },
  {
   "cell_type": "markdown",
   "id": "15e93dd2",
   "metadata": {},
   "source": [
    "## Evaluation Functions \n",
    "\n",
    "For the evaluation of the model, we have created two evaluation functions. \n",
    "\n",
    "**************\n",
    "\n",
    "### 1. Effectivity Function\n",
    "The first evaluation function is called **Effectivity Function**. This function calculates the percentage of queried ingredients inside the recommended recipes outputted by the model. \n",
    "\n",
    "The syntax to use this function is shown below:\n",
    "\n",
    "`percent_table = eve.effectivity_eval(Q, query,raw_recipe)`\n",
    "\n",
    "where:\n",
    "* `Q` is the list of recommended recipe indexes (of rd_recipe) outputted by the model\n",
    "* `query` is the string of user query \n",
    "* `raw_recipe` is the dataframe of the recipe table \n",
    "\n",
    "and `percent_table` is a dataframe showing percentage values of how many ingredients in the query actually popped up in the recipes recommended by the model. \n",
    "\n",
    "***********"
   ]
  },
  {
   "cell_type": "markdown",
   "id": "aa03d65e",
   "metadata": {},
   "source": [
    "### 2. Precision/Recall Analysis Based on Model Dataset \n",
    "\n",
    "Unfortunately, it was highly difficult to obtain datasets which connects a query of ingredients to the clicking rate of recipes. Ideally, our team would conduct a survey of sufficient scale to gather this data. However, due to the limitations of time, we have been advised to generate a model dataset connected that is connected to a set of model queries. \n",
    "\n",
    "The dataset is loaded into the variable `eval_recipe`. It consists of 57 data points. Each recipe was labeled either 1 (relevant) or 0(irrelevant) to indicate whether it is a relevant recipe to the model query. We can then do statistical analysis based on these results (i.e. recall/precision type analysis)\n",
    "\n",
    "\n",
    "#### Query List:\n",
    "\n",
    "* Query 1:  beef, salt, pepper   \n",
    "* Query 2: chicken, cream      \n",
    "* Query 3: noodles, chicken   \n",
    "* Query 4: beef, potatoes      \n",
    "\n",
    "#### Score metric:\n",
    "* 1 = fulfils query\n",
    "* 0 = does not fulfil query"
   ]
  },
  {
   "cell_type": "markdown",
   "id": "925f473f",
   "metadata": {},
   "source": [
    "Here, we load the `eval_recipe` i.e. the model dataset"
   ]
  },
  {
   "cell_type": "code",
   "execution_count": 3,
   "id": "f093ba6b",
   "metadata": {},
   "outputs": [
    {
     "data": {
      "text/html": [
       "<div>\n",
       "<style scoped>\n",
       "    .dataframe tbody tr th:only-of-type {\n",
       "        vertical-align: middle;\n",
       "    }\n",
       "\n",
       "    .dataframe tbody tr th {\n",
       "        vertical-align: top;\n",
       "    }\n",
       "\n",
       "    .dataframe thead th {\n",
       "        text-align: right;\n",
       "    }\n",
       "</style>\n",
       "<table border=\"1\" class=\"dataframe\">\n",
       "  <thead>\n",
       "    <tr style=\"text-align: right;\">\n",
       "      <th></th>\n",
       "      <th>index</th>\n",
       "      <th>recipe_id</th>\n",
       "      <th>recipe_name</th>\n",
       "      <th>user_id</th>\n",
       "      <th>rating</th>\n",
       "      <th>Query 1</th>\n",
       "      <th>Query 2</th>\n",
       "      <th>Query 3</th>\n",
       "      <th>Query 4</th>\n",
       "      <th>ingredients</th>\n",
       "      <th>cooking_directions</th>\n",
       "    </tr>\n",
       "  </thead>\n",
       "  <tbody>\n",
       "    <tr>\n",
       "      <th>0</th>\n",
       "      <td>24</td>\n",
       "      <td>56648</td>\n",
       "      <td>Gravy potatoes</td>\n",
       "      <td>NaN</td>\n",
       "      <td>3</td>\n",
       "      <td>0</td>\n",
       "      <td>0</td>\n",
       "      <td>0</td>\n",
       "      <td>1</td>\n",
       "      <td>baking potatoes ground beef small onion conden...</td>\n",
       "      <td>{'directions': u'Prep\\n5 m\\nCook\\n1 h 15 m\\nRe...</td>\n",
       "    </tr>\n",
       "    <tr>\n",
       "      <th>1</th>\n",
       "      <td>25</td>\n",
       "      <td>74224</td>\n",
       "      <td>meat loaf pie</td>\n",
       "      <td>NaN</td>\n",
       "      <td>3</td>\n",
       "      <td>0</td>\n",
       "      <td>0</td>\n",
       "      <td>0</td>\n",
       "      <td>1</td>\n",
       "      <td>ground beef small onion egg ketchup worcesters...</td>\n",
       "      <td>{'directions': u'Prep\\n15 m\\nCook\\n40 m\\nReady...</td>\n",
       "    </tr>\n",
       "    <tr>\n",
       "      <th>2</th>\n",
       "      <td>26</td>\n",
       "      <td>70589</td>\n",
       "      <td>Serbian ground beef veggie potato bake</td>\n",
       "      <td>NaN</td>\n",
       "      <td>3</td>\n",
       "      <td>1</td>\n",
       "      <td>0</td>\n",
       "      <td>0</td>\n",
       "      <td>1</td>\n",
       "      <td>ground beef olive oil green bell pepper onion ...</td>\n",
       "      <td>{'directions': u'Prep\\n25 m\\nCook\\n1 h\\nReady ...</td>\n",
       "    </tr>\n",
       "  </tbody>\n",
       "</table>\n",
       "</div>"
      ],
      "text/plain": [
       "   index  recipe_id                             recipe_name  user_id  rating  \\\n",
       "0     24      56648                          Gravy potatoes      NaN       3   \n",
       "1     25      74224                           meat loaf pie      NaN       3   \n",
       "2     26      70589  Serbian ground beef veggie potato bake      NaN       3   \n",
       "\n",
       "   Query 1  Query 2  Query 3  Query 4  \\\n",
       "0        0        0        0        1   \n",
       "1        0        0        0        1   \n",
       "2        1        0        0        1   \n",
       "\n",
       "                                         ingredients  \\\n",
       "0  baking potatoes ground beef small onion conden...   \n",
       "1  ground beef small onion egg ketchup worcesters...   \n",
       "2  ground beef olive oil green bell pepper onion ...   \n",
       "\n",
       "                                  cooking_directions  \n",
       "0  {'directions': u'Prep\\n5 m\\nCook\\n1 h 15 m\\nRe...  \n",
       "1  {'directions': u'Prep\\n15 m\\nCook\\n40 m\\nReady...  \n",
       "2  {'directions': u'Prep\\n25 m\\nCook\\n1 h\\nReady ...  "
      ]
     },
     "execution_count": 3,
     "metadata": {},
     "output_type": "execute_result"
    }
   ],
   "source": [
    "eval_recipe.head(3)"
   ]
  },
  {
   "cell_type": "markdown",
   "id": "d539a6ee",
   "metadata": {},
   "source": [
    "As you can see, each recipe has a score of 1 or 0 based on whether they are a relevant recipe to Query 1-4.\n",
    "It is important to note that these scores were made arbitrarily based on the judgment of one DS member. Therefore we advise that the results of this evaluation to be taken with a grain of salt.\n",
    "\n",
    "In this evaluation method, the recommendation model will vectorize the recipes in the model dataset, and match the query to the recipes in this dataset. By calling the evaluation function:\n",
    "\n",
    "`[result, reordered_model_df] = PrecRec_eval(model_df,threshold, prediction_model)`\n",
    "\n",
    "where `model_df` is eval_recipe , `threshold` is the number of results/recipes you want to evaluate for precision/recall analysis, and `prediction model` is the prediction model. The list of `prediction model` is inside the file **func_predict.py**\n",
    "\n",
    "An example of the usage of this function is:\n",
    "\n",
    " `[result, reordered_model_df] = eve.PrecRec_eval(eval_recipe, 7, \"cosine_similarity\")`\n",
    "\n",
    " `result` is an array of 1s and 0s, i.e. \n",
    " \n",
    " `[array([0, 0, 1, 0, 0, 0, 1], dtype=int64),\n",
    " array([1, 1, 1, 0, 1, 1, 0], dtype=int64),\n",
    " array([1, 0, 1, 0, 0, 0, 0], dtype=int64),\n",
    " array([1, 1, 0, 1, 0, 0, 1], dtype=int64)]`\n",
    " \n",
    " and `reorerdered_model_df` is a dataFrame of the model dataset, that is reordered according to its similarity score calculated by the model. It is listed in descending order \n",
    "\n",
    "which is an indication whether the first *n* recipes are relevant(1) or irrelevant(0) to queries 1 to 4. The first row belongs to results to query 1, and so on and so forth.\n",
    "\n",
    "Taking the example of `array([1, 1, 0, 1, 0, 0, 1], dtype=int64)` , our result shows that recipe 1,2, 4 and 7 are relevant, while the rest are irrelevant. \n",
    "\n",
    "\n",
    "\n",
    "In our model dataset, there are only **7 recipes** which are relevant to each queries. Therefore, we can only evaluate the top 7 recipes as a maximum.\n",
    "\n",
    "***********************************"
   ]
  },
  {
   "cell_type": "markdown",
   "id": "fbbe80f4",
   "metadata": {},
   "source": [
    "# Evaluation of Model 1:\n",
    "Details of Model 1: \n",
    "- The model vectorizes the 'cooking directions' text to represent the vector of the recipe\n",
    "- cosine similarity function in func_predict.py was used "
   ]
  },
  {
   "cell_type": "code",
   "execution_count": 4,
   "id": "ecfe6594",
   "metadata": {},
   "outputs": [],
   "source": [
    "processed_text = []    #processed text of the whole dataset\n",
    "for text in rd_recipe['cooking_directions']:\n",
    "    processed_text.append(word_tokenize(pp.preprocess(text)))"
   ]
  },
  {
   "cell_type": "code",
   "execution_count": 5,
   "id": "b129d67c",
   "metadata": {},
   "outputs": [],
   "source": [
    "[D, DF, N] = tfidf.vectorize_corpus(processed_text)"
   ]
  },
  {
   "cell_type": "markdown",
   "id": "277b26f7",
   "metadata": {},
   "source": [
    "The more extensive steps of evaluation are inside the file **evalbook_template_nisaulumuddin**. After much testing and discussion, we found that the Model Dataset that was curated was too biased to give us a representative measure of the model's performance. The details below summarizes the evaluation of our model:"
   ]
  },
  {
   "cell_type": "markdown",
   "id": "bbb4b997",
   "metadata": {},
   "source": [
    "Firstly, we want to define a couple of functions"
   ]
  },
  {
   "cell_type": "code",
   "execution_count": 6,
   "id": "251dd19f",
   "metadata": {},
   "outputs": [],
   "source": [
    "def avg_m(val):\n",
    "    return sum(val)/len(val)"
   ]
  },
  {
   "cell_type": "code",
   "execution_count": 7,
   "id": "2a621894",
   "metadata": {},
   "outputs": [],
   "source": [
    "#so that these steps can be called by one line...\n",
    "def run_sim(user_query,k):\n",
    "    [ result_index , result_score] = pred.cosine_similarity(k, user_query, D , DF, N)\n",
    "    res_df = pd.DataFrame(columns = ['recipe_index','recipe_id','similarity_score',])\n",
    "    res_df.loc[:, 'recipe_index'] = result_index\n",
    "    res_df.loc[:, 'recipe_id'] = rd_recipe.loc[result_index,'recipe_id'].values.tolist()\n",
    "    res_df.loc[:,'similarity_score'] = result_score*100\n",
    "    print(\"The query is '{}' \".format(user_query))\n",
    "    return res_df"
   ]
  },
  {
   "cell_type": "code",
   "execution_count": 8,
   "id": "3ce715e0",
   "metadata": {},
   "outputs": [],
   "source": [
    "# generates 4-ingredients lists by random\n",
    "def genquadpairs(m, n):\n",
    "    seen = set()\n",
    "\n",
    "    a,b,c,d = randint(m, n), randint(m, n), randint(m, n), randint(m, n)\n",
    "\n",
    "    while True:\n",
    "        seen.add((a,b,c,d))\n",
    "        yield (a,b,c,d)\n",
    "        a,b,c,d = randint(m, n), randint(m, n), randint(m, n), randint(m, n)\n",
    "        while (a,b,c,d) in seen:\n",
    "            a,b,c,d,e = randint(m, n), randint(m, n), randint(m, n), randint(m, n)"
   ]
  },
  {
   "cell_type": "code",
   "execution_count": 9,
   "id": "424f86dd",
   "metadata": {},
   "outputs": [
    {
     "name": "stdout",
     "output_type": "stream",
     "text": [
      "The query is 'beef, potatoes, soy sauce, sugar,  ' \n"
     ]
    }
   ],
   "source": [
    "user_query = \"beef, potatoes, soy sauce, sugar,  \"\n",
    "q1 = run_sim(user_query,2000)\n",
    "[ result_index , result_score] = pred.cosine_similarity(2000, user_query, D , DF, N)\n",
    "eff_score = eve.effectivity_eval( result_index, user_query, rd_recipe)\n",
    "eff_score.loc[:,\"similarity_score\"] = q1.loc[:,'similarity_score']\n",
    "eff_score.rename({'percent': 'ingredient_match'}, axis=1, inplace=True)\n",
    "max_score = eff_score['similarity_score'].max()\n",
    "eff_score['norm_simscore']=eff_score['similarity_score'].apply(lambda x: x/max_score)\n",
    "eff_score['binary_match'] = eff_score['ingredient_match'].apply(lambda x: 1 if x >=0.75 else 0)\n",
    "\n",
    "ytrue = eff_score['binary_match'].values.tolist()\n",
    "y_pred = eff_score['norm_simscore'].values.tolist()\n",
    "fpr, tpr, threshold = metrics.roc_curve(ytrue,y_pred )\n",
    "roc_auc = metrics.auc(fpr, tpr)\n",
    "\n"
   ]
  },
  {
   "cell_type": "code",
   "execution_count": 10,
   "id": "6094ab56",
   "metadata": {},
   "outputs": [
    {
     "data": {
      "image/png": "[encoded data removed]",
      "text/plain": [
       "<Figure size 432x288 with 1 Axes>"
      ]
     },
     "metadata": {
      "needs_background": "light"
     },
     "output_type": "display_data"
    }
   ],
   "source": [
    "plt.figure()\n",
    "lw = 2\n",
    "plt.plot(\n",
    "    fpr,\n",
    "    tpr,\n",
    "    color=\"green\",\n",
    "    lw=lw,\n",
    "    label=\"ROC curve (area = %0.2f)\" % roc_auc,\n",
    ")\n",
    "\n",
    "\n",
    "plt.plot([0, 1], [0, 1], color=\"navy\", lw=lw, linestyle=\"--\")\n",
    "plt.xlim([0.0, 1.0])\n",
    "plt.ylim([0.0, 1.05])\n",
    "plt.xlabel(\"False Positive Rate\")\n",
    "plt.ylabel(\"True Positive Rate\")\n",
    "plt.title(user_query)\n",
    "plt.legend(loc=\"lower right\")\n",
    "plt.show()"
   ]
  },
  {
   "cell_type": "markdown",
   "id": "82f60fdd",
   "metadata": {},
   "source": [
    "Now we will create queries at random and analyze them to be able to do a sensitive analysis of this result. "
   ]
  },
  {
   "cell_type": "code",
   "execution_count": 11,
   "id": "f5c74dd0",
   "metadata": {},
   "outputs": [],
   "source": [
    "ingredients = [\"chicken\", \"soy sauce\", \"chilli\", \"tomato\", \"potato\", \"pepper\", \"salt\", \"ginger\", \"garlic\", \"bread\", \"flour\", \"pasta\", \"cheese\", \"lettuce\", \"onion\", \"taco\", \"beef\", \"olive oil\", \"oil\", \"macaroni\", \"cream cheese\",\"honey\",\"sausage\",\"cornflakes\",\"bacon\",\"jalapeno\",\"egg\",\"noodles\",\"hoisin sauce\",\"bread crumbs\",\"honey\",\"carrot\",\"potatoes\",\"carrot\",\"butter\",\"lemon\"]"
   ]
  },
  {
   "cell_type": "code",
   "execution_count": 12,
   "id": "67ce4d14",
   "metadata": {},
   "outputs": [],
   "source": [
    "ing_list = pd.DataFrame(data=ingredients)\n"
   ]
  },
  {
   "cell_type": "code",
   "execution_count": 14,
   "id": "59117670",
   "metadata": {},
   "outputs": [
    {
     "data": {
      "text/plain": [
       "[31, 4, 18, 5]"
      ]
     },
     "execution_count": 14,
     "metadata": {},
     "output_type": "execute_result"
    }
   ],
   "source": [
    "g = genquadpairs(0,35)\n",
    "list(next(g))"
   ]
  },
  {
   "cell_type": "code",
   "execution_count": 15,
   "id": "fa18b3cb",
   "metadata": {},
   "outputs": [],
   "source": [
    "query_gen = []\n",
    "\n",
    "for i in range(0,100):\n",
    "    g = genquadpairs(0,35)\n",
    "    query_g = ing_list.iloc[list(next(g)),:][0].values.tolist()\n",
    "    query_gen.append(query_g)"
   ]
  },
  {
   "cell_type": "code",
   "execution_count": 17,
   "id": "1f15669f",
   "metadata": {},
   "outputs": [
    {
     "data": {
      "text/plain": [
       "[['bread crumbs', 'honey', 'chicken', 'potato'],\n",
       " ['chicken', 'ginger', 'potato', 'pepper']]"
      ]
     },
     "execution_count": 17,
     "metadata": {},
     "output_type": "execute_result"
    }
   ],
   "source": [
    "query_gen[0:2]"
   ]
  },
  {
   "cell_type": "code",
   "execution_count": 19,
   "id": "0b33ee1d",
   "metadata": {},
   "outputs": [
    {
     "data": {
      "image/png": "[encoded data removed]",
      "text/plain": [
       "<Figure size 720x360 with 1 Axes>"
      ]
     },
     "metadata": {
      "needs_background": "light"
     },
     "output_type": "display_data"
    }
   ],
   "source": [
    "cumu_avg = []\n",
    "querylist = []\n",
    "preclist = []\n",
    "ytrue_cum = []\n",
    "eff_cumu = []\n",
    "for f in range(0,len(query_gen)):\n",
    "    user_query= query_gen[f]\n",
    "    querylist.append(user_query)\n",
    "    [ result_index , result_score] = pred.cosine_similarity(20, user_query, D , DF, N)\n",
    "    eff_score = eve.effectivity_eval( result_index, user_query, rd_recipe)\n",
    "    eff_true = eff_score[\"percent\"].values.tolist()\n",
    "    avg_score = avg_m(eff_true)\n",
    "    cumu_avg.append(avg_score)\n",
    "    eff_cumu.append(eff_true)\n",
    "    y_pred = np.ones(20)\n",
    "    y_true = []\n",
    "    \n",
    "    #for precision calculation, setting the threshold value to 75% match..\n",
    "    for f in range(0,len(eff_true)):\n",
    "        if eff_true[f] >= 0.75:\n",
    "            y_true.append(1)\n",
    "        else:\n",
    "            y_true.append(0)\n",
    "    ytrue_cum.append(y_true)\n",
    "    prec = met.precision_score(y_true, y_pred, average='macro', zero_division = 0)\n",
    "    preclist.append(prec)\n",
    "    \n",
    "d = {'query': querylist, 'avg_match': cumu_avg , 'prec':preclist}\n",
    "test_20queries = pd.DataFrame(data=d)\n",
    "#test_20queries.sort_values(by=\"avg_match\",ascending=False)\n",
    "\n",
    "plt.figure(figsize=(10, 5)) \n",
    "plt.scatter(x=test_20queries['avg_match'], y=test_20queries['prec'])\n",
    "plt.title(\"Avg ingredients match vs Precision (75% Threshold)\")\n",
    "plt.ylabel(\"Precision\")\n",
    "plt.xlabel(\"Average Ingredient Match\")\n",
    "plt.xticks(np.arange(0, 1, step=0.25))\n",
    "plt.show()"
   ]
  },
  {
   "cell_type": "code",
   "execution_count": 22,
   "id": "d648bc2f",
   "metadata": {},
   "outputs": [],
   "source": [
    "roc_cumu = []\n",
    "cumu_avg = []\n",
    "for f in range(0,10): \n",
    "    user_query= query_gen[f]\n",
    "    [ result_index , result_score] = pred.cosine_similarity(2000, user_query, D , DF, N)\n",
    "    eff_score = eve.effectivity_eval( result_index, user_query, rd_recipe)\n",
    "    \n",
    "    sim_core = result_score  #cosine similarity score\n",
    "    match_score = eff_score['percent'].values.tolist()  #ingredient % match score\n",
    "    \n",
    "    #calculating average match score\n",
    "    avg_score = avg_m(match_score[0:7])\n",
    "    cumu_avg.append(avg_score)\n",
    "    \n",
    "    #calculating y_true binaries and normalized y_pred\n",
    "    max_score = np.max(sim_core)\n",
    "    norm_sims = sim_core/max_score\n",
    "    bin_match = []\n",
    "    for i in match_score:\n",
    "        if i >= 0.75:\n",
    "            bin_match.append(1)\n",
    "        else:\n",
    "            bin_match.append(0)\n",
    "    \n",
    "    ytrue = bin_match\n",
    "    y_pred = norm_sims\n",
    "    fpr, tpr, threshold = metrics.roc_curve(ytrue,y_pred )\n",
    "    roc_auc = metrics.auc(fpr, tpr)\n",
    "    roc_cumu.append(roc_auc)\n",
    "    "
   ]
  },
  {
   "cell_type": "code",
   "execution_count": 29,
   "id": "1167bbd0",
   "metadata": {},
   "outputs": [
    {
     "name": "stdout",
     "output_type": "stream",
     "text": [
      "This is the list of ROC AUC for the model performance based on 10 random queries we have processed: [0.8565140845070423, 0.651253007237951, 0.7647256564449258, 0.628427623623231, 0.5649063101696769, 0.882230664468497, 0.8689344672336168, 0.7798984771573605, 0.8094043437746397, 0.589362206031266]\n",
      "This is the average ROC AUC based on the 10 runs: 0.7395656840648206\n"
     ]
    }
   ],
   "source": [
    "print(\"This is the list of ROC AUC for the model performance based on 10 random queries we have processed: {}\".format(roc_cumu))\n",
    "print(\"This is the average ROC AUC based on the 10 runs: {}\".format(avg_m(roc_cumu)))"
   ]
  },
  {
   "cell_type": "code",
   "execution_count": 28,
   "id": "22b721af",
   "metadata": {},
   "outputs": [
    {
     "name": "stdout",
     "output_type": "stream",
     "text": [
      "This is the list of match average for the model performance of 10 random queries, for the top 7 recipes: [0.39999999999999997, 0.42857142857142855, 0.35714285714285715, 0.4761904761904762, 0.5714285714285714, 0.42857142857142866, 0.2571428571428572, 0.39285714285714285, 0.3142857142857142, 0.48571428571428577]\n",
      "This is the average match average based on the 10 runs: 0.4111904761904762\n"
     ]
    }
   ],
   "source": [
    "print(\"This is the list of match average for the model performance of 10 random queries, for the top 7 recipes: {}\".format(cumu_avg))\n",
    "print(\"This is the average match average based on the 10 runs: {}\".format(avg_m(cumu_avg)))"
   ]
  },
  {
   "cell_type": "markdown",
   "id": "d55107cf",
   "metadata": {},
   "source": [
    "# Evaluation of Model 2\n",
    "\n",
    "Details of Model 2: \n",
    "- The model vectorizes both the 'cooking directions' + 'ingredients' text to represent the vector of the recipe\n",
    "- cosine similarity function in func_predict.py was used \n",
    "\n",
    "Loading the model..."
   ]
  },
  {
   "cell_type": "code",
   "execution_count": 30,
   "id": "7c388037",
   "metadata": {},
   "outputs": [],
   "source": [
    "rd_recipe['dir_and_ingredients'] = rd_recipe['cooking_directions'] + rd_recipe['ingredients']"
   ]
  },
  {
   "cell_type": "code",
   "execution_count": 33,
   "id": "63de990e",
   "metadata": {},
   "outputs": [],
   "source": [
    "processed_text_2 = []    #processed text of the whole dataset\n",
    "for text in rd_recipe['dir_and_ingredients']:\n",
    "    processed_text_2.append(word_tokenize(pp.preprocess(text)))"
   ]
  },
  {
   "cell_type": "code",
   "execution_count": 34,
   "id": "3fe824f0",
   "metadata": {},
   "outputs": [],
   "source": [
    "[D_2, DF_2, N_2] = tfidf.vectorize_corpus(processed_text_2)"
   ]
  },
  {
   "cell_type": "code",
   "execution_count": null,
   "id": "64c74c49",
   "metadata": {},
   "outputs": [],
   "source": [
    "[ result_index_2 , result_score_2] = pred.cosine_similarity(7, user_query, D_2 , DF_2, N_2)"
   ]
  },
  {
   "cell_type": "code",
   "execution_count": null,
   "id": "27e68fdc",
   "metadata": {},
   "outputs": [],
   "source": [
    "result_index_2"
   ]
  },
  {
   "cell_type": "code",
   "execution_count": 35,
   "id": "04913e4e",
   "metadata": {},
   "outputs": [],
   "source": [
    "roc_cumu_2= []\n",
    "cumu_avg_2 = []\n",
    "for f in range(0,10): \n",
    "    user_query= query_gen[f]\n",
    "    [ result_index_2 , result_score_2] = pred.cosine_similarity(2000, user_query, D_2 , DF_2, N_2)\n",
    "    eff_score = eve.effectivity_eval( result_index_2, user_query, rd_recipe)\n",
    "    \n",
    "    sim_core = result_score_2  #cosine similarity score\n",
    "    match_score = eff_score['percent'].values.tolist()  #ingredient % match score\n",
    "    \n",
    "    #calculating average match score\n",
    "    avg_score = avg_m(match_score[0:7])\n",
    "    cumu_avg_2.append(avg_score)\n",
    "    \n",
    "    #calculating y_true binaries and normalized y_pred\n",
    "    max_score = np.max(sim_core)\n",
    "    norm_sims = sim_core/max_score\n",
    "    bin_match = []\n",
    "    for i in match_score:\n",
    "        if i >= 0.75:\n",
    "            bin_match.append(1)\n",
    "        else:\n",
    "            bin_match.append(0)\n",
    "    \n",
    "    ytrue = bin_match\n",
    "    y_pred = norm_sims\n",
    "    fpr, tpr, threshold = metrics.roc_curve(ytrue,y_pred )\n",
    "    roc_auc = metrics.auc(fpr, tpr)\n",
    "    roc_cumu_2.append(roc_auc)\n",
    "    "
   ]
  },
  {
   "cell_type": "code",
   "execution_count": 36,
   "id": "4de671a7",
   "metadata": {},
   "outputs": [
    {
     "name": "stdout",
     "output_type": "stream",
     "text": [
      "This is the list of ROC AUC for the model performance based on 10 random queries we have processed: [0.9447518443997318, 0.682813862249346, 0.8143563512361467, 0.6511451779353508, 0.5610618711196745, 0.8829145728643216, 0.9949974987493746, 0.8209137055837564, 0.9216543616945021, 0.5790104999652319]\n",
      "This is the average ROC AUC based on the 10 runs: 0.7853619745797438\n"
     ]
    }
   ],
   "source": [
    "print(\"This is the list of ROC AUC for the model performance based on 10 random queries we have processed: {}\".format(roc_cumu_2))\n",
    "print(\"This is the average ROC AUC based on the 10 runs: {}\".format(avg_m(roc_cumu_2)))"
   ]
  },
  {
   "cell_type": "code",
   "execution_count": 37,
   "id": "046105c5",
   "metadata": {},
   "outputs": [
    {
     "name": "stdout",
     "output_type": "stream",
     "text": [
      "This is the list of match average for the model performance of 10 random queries, for the top 7 recipes: [0.5714285714285714, 0.42857142857142855, 0.5, 0.5952380952380952, 0.7142857142857143, 0.6285714285714284, 0.48571428571428577, 0.39285714285714285, 0.2857142857142857, 0.4000000000000001]\n",
      "This is the average match average based on the 10 runs: 0.5002380952380954\n"
     ]
    }
   ],
   "source": [
    "print(\"This is the list of match average for the model performance of 10 random queries, for the top 7 recipes: {}\".format(cumu_avg_2))\n",
    "print(\"This is the average match average based on the 10 runs: {}\".format(avg_m(cumu_avg_2)))"
   ]
  },
  {
   "cell_type": "markdown",
   "id": "23b8fc0a",
   "metadata": {},
   "source": [
    "Do an evaluation of Model 2!"
   ]
  },
  {
   "cell_type": "markdown",
   "id": "5c571230",
   "metadata": {},
   "source": [
    "# Evaluation of Model 3\n",
    "\n",
    "Details of Model 3: \n",
    "- The model vectorizes the 'cooking directions' text to represent the vector of the recipe\n",
    "- eucledian spatial distance was used to calculate vector distance  "
   ]
  },
  {
   "cell_type": "code",
   "execution_count": 38,
   "id": "0d454da0",
   "metadata": {},
   "outputs": [],
   "source": [
    "from scipy.spatial.distance import euclidean"
   ]
  },
  {
   "cell_type": "code",
   "execution_count": null,
   "id": "b0c7000e",
   "metadata": {},
   "outputs": [],
   "source": [
    "[ result_index_3 , result_score_3] = pred.euclidean_similarity(7, user_query, D , DF, N)"
   ]
  },
  {
   "cell_type": "code",
   "execution_count": 39,
   "id": "45ed289a",
   "metadata": {},
   "outputs": [
    {
     "name": "stderr",
     "output_type": "stream",
     "text": [
      "C:\\Users\\Nisa Ulumuddin\\anaconda3\\lib\\site-packages\\sklearn\\metrics\\_ranking.py:949: UndefinedMetricWarning: No positive samples in y_true, true positive value should be meaningless\n",
      "  warnings.warn(\"No positive samples in y_true, \"\n",
      "C:\\Users\\Nisa Ulumuddin\\anaconda3\\lib\\site-packages\\sklearn\\metrics\\_ranking.py:949: UndefinedMetricWarning: No positive samples in y_true, true positive value should be meaningless\n",
      "  warnings.warn(\"No positive samples in y_true, \"\n",
      "C:\\Users\\Nisa Ulumuddin\\anaconda3\\lib\\site-packages\\sklearn\\metrics\\_ranking.py:949: UndefinedMetricWarning: No positive samples in y_true, true positive value should be meaningless\n",
      "  warnings.warn(\"No positive samples in y_true, \"\n",
      "C:\\Users\\Nisa Ulumuddin\\anaconda3\\lib\\site-packages\\sklearn\\metrics\\_ranking.py:949: UndefinedMetricWarning: No positive samples in y_true, true positive value should be meaningless\n",
      "  warnings.warn(\"No positive samples in y_true, \"\n",
      "C:\\Users\\Nisa Ulumuddin\\anaconda3\\lib\\site-packages\\sklearn\\metrics\\_ranking.py:949: UndefinedMetricWarning: No positive samples in y_true, true positive value should be meaningless\n",
      "  warnings.warn(\"No positive samples in y_true, \"\n",
      "C:\\Users\\Nisa Ulumuddin\\anaconda3\\lib\\site-packages\\sklearn\\metrics\\_ranking.py:949: UndefinedMetricWarning: No positive samples in y_true, true positive value should be meaningless\n",
      "  warnings.warn(\"No positive samples in y_true, \"\n",
      "C:\\Users\\Nisa Ulumuddin\\anaconda3\\lib\\site-packages\\sklearn\\metrics\\_ranking.py:949: UndefinedMetricWarning: No positive samples in y_true, true positive value should be meaningless\n",
      "  warnings.warn(\"No positive samples in y_true, \"\n",
      "C:\\Users\\Nisa Ulumuddin\\anaconda3\\lib\\site-packages\\sklearn\\metrics\\_ranking.py:949: UndefinedMetricWarning: No positive samples in y_true, true positive value should be meaningless\n",
      "  warnings.warn(\"No positive samples in y_true, \"\n"
     ]
    }
   ],
   "source": [
    "roc_cumu_3= []\n",
    "cumu_avg_3 = []\n",
    "for f in range(0,10): \n",
    "    user_query= query_gen[f]\n",
    "    [ result_index_3 , result_score_3] = pred.euclidean_similarity(2000, user_query, D , DF, N)\n",
    "    eff_score = eve.effectivity_eval( result_index_3, user_query, rd_recipe)\n",
    "    \n",
    "    sim_core = result_score_3  #cosine similarity score\n",
    "    match_score = eff_score['percent'].values.tolist()  #ingredient % match score\n",
    "    \n",
    "    #calculating average match score\n",
    "    avg_score = avg_m(match_score[0:7])\n",
    "    cumu_avg_3.append(avg_score)\n",
    "    \n",
    "    #calculating y_true binaries and normalized y_pred\n",
    "    max_score = np.max(sim_core)\n",
    "    norm_sims = sim_core/max_score\n",
    "    bin_match = []\n",
    "    for i in match_score:\n",
    "        if i >= 0.75:\n",
    "            bin_match.append(1)\n",
    "        else:\n",
    "            bin_match.append(0)\n",
    "    \n",
    "    ytrue = bin_match\n",
    "    y_pred = norm_sims\n",
    "    fpr, tpr, threshold = metrics.roc_curve(ytrue,y_pred )\n",
    "    roc_auc = metrics.auc(fpr, tpr)\n",
    "    roc_cumu_3.append(roc_auc)\n",
    "    "
   ]
  },
  {
   "cell_type": "code",
   "execution_count": 41,
   "id": "59d8636e",
   "metadata": {},
   "outputs": [
    {
     "name": "stdout",
     "output_type": "stream",
     "text": [
      "This is the list of ROC AUC for the model performance based on 10 random queries we have processed: [nan, nan, nan, nan, 0.2955455455455455, nan, nan, nan, nan, 0.38069034517258626]\n",
      "This is the average ROC AUC based on the 10 runs: nan\n"
     ]
    }
   ],
   "source": [
    "print(\"This is the list of ROC AUC for the model performance based on 10 random queries we have processed: {}\".format(roc_cumu_3))\n",
    "print(\"This is the average ROC AUC based on the 10 runs: {}\".format(avg_m(roc_cumu_3)))"
   ]
  },
  {
   "cell_type": "code",
   "execution_count": 42,
   "id": "b1d55d20",
   "metadata": {},
   "outputs": [
    {
     "name": "stdout",
     "output_type": "stream",
     "text": [
      "This is the list of match average for the model performance of 10 random queries, for the top 7 recipes: [0.0, 0.0, 0.0, 0.0, 0.0, 0.0, 0.0, 0.0, 0.0, 0.0]\n",
      "This is the average match average based on the 10 runs: 0.0\n"
     ]
    }
   ],
   "source": [
    "print(\"This is the list of match average for the model performance of 10 random queries, for the top 7 recipes: {}\".format(cumu_avg_3))\n",
    "print(\"This is the average match average based on the 10 runs: {}\".format(avg_m(cumu_avg_3)))"
   ]
  },
  {
   "cell_type": "markdown",
   "id": "aeb93c00",
   "metadata": {},
   "source": [
    "Do an evaluation of Model 3!"
   ]
  },
  {
   "cell_type": "markdown",
   "id": "79c7ab13",
   "metadata": {},
   "source": []
  }
 ],
 "metadata": {
  "kernelspec": {
   "display_name": "Python 3 (ipykernel)",
   "language": "python",
   "name": "python3"
  },
  "language_info": {
   "codemirror_mode": {
    "name": "ipython",
    "version": 3
   },
   "file_extension": ".py",
   "mimetype": "text/x-python",
   "name": "python",
   "nbconvert_exporter": "python",
   "pygments_lexer": "ipython3",
   "version": "3.9.7"
  }
 },
 "nbformat": 4,
 "nbformat_minor": 5
}
