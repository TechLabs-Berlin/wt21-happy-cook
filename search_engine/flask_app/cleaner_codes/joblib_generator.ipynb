{
 "cells": [
  {
   "cell_type": "code",
   "execution_count": 1,
   "id": "eec825e0",
   "metadata": {},
   "outputs": [],
   "source": [
    "import sys\n",
    "import pandas as pd\n",
    "import numpy as np\n",
    "import os\n",
    "import matplotlib.pyplot as plt\n",
    "from collections import Counter\n",
    "import advertools as adv\n",
    "from sklearn.feature_extraction.text import CountVectorizer\n",
    "\n",
    "from nltk.corpus import stopwords\n",
    "from nltk.tokenize import word_tokenize\n",
    "from nltk.stem import PorterStemmer\n",
    "from collections import Counter\n",
    "from num2words import num2words\n",
    "\n",
    "import os\n",
    "import numpy as np\n",
    "import pandas as pd\n",
    "import pickle\n",
    "import re\n",
    "import math\n",
    "\n",
    "import func_similarityfunc as sim\n",
    "import func_tfidf as tfidf\n",
    "import func_datapreprocessing as pp\n",
    "import func_predict as pred "
   ]
  },
  {
   "cell_type": "code",
   "execution_count": 2,
   "id": "6382065c",
   "metadata": {},
   "outputs": [],
   "source": [
    "rd_recipe = pd.read_csv('../ds_dataset/raw-data_recipe.csv')"
   ]
  },
  {
   "cell_type": "markdown",
   "id": "e09b400a",
   "metadata": {},
   "source": [
    "# TO GANYI: CAN YOU RUN YOUR DATASET_CLEANER FUNCTION HERE? OR LOAD THE CLEANED DATASET. UP TO YOU. \n",
    "Then please run the rest of this notebook "
   ]
  },
  {
   "cell_type": "code",
   "execution_count": 3,
   "id": "5749dd05",
   "metadata": {},
   "outputs": [],
   "source": [
    "processed_text = []\n",
    "for text in rd_recipe['cooking_directions']:\n",
    "    processed_text.append(word_tokenize(pp.preprocess(text)))"
   ]
  },
  {
   "cell_type": "code",
   "execution_count": 4,
   "id": "f70640b4",
   "metadata": {},
   "outputs": [],
   "source": [
    "[D, DF, N] = tfidf.vectorize_corpus(processed_text)"
   ]
  },
  {
   "cell_type": "code",
   "execution_count": 11,
   "id": "e81d5f95",
   "metadata": {},
   "outputs": [],
   "source": [
    "user_query = \"chicken lime\"\n",
    "[model, model_score] = pred.cosine_similarity(10, user_query, D , DF, N)"
   ]
  },
  {
   "cell_type": "code",
   "execution_count": 12,
   "id": "28ae0d46",
   "metadata": {},
   "outputs": [
    {
     "data": {
      "text/plain": [
       "array([11442,  9942, 49534, 30522, 29296, 33367, 47455, 14457, 35242,\n",
       "       47199], dtype=int64)"
      ]
     },
     "execution_count": 12,
     "metadata": {},
     "output_type": "execute_result"
    }
   ],
   "source": [
    "model"
   ]
  },
  {
   "cell_type": "code",
   "execution_count": 14,
   "id": "914835d8",
   "metadata": {},
   "outputs": [],
   "source": [
    "from joblib import dump, load"
   ]
  },
  {
   "cell_type": "markdown",
   "id": "fb9c8622",
   "metadata": {},
   "source": [
    "This will produce the .joblib files. We need 3 files: vectorized_corpus.joblib, DF.joblib, N.joblib"
   ]
  },
  {
   "cell_type": "code",
   "execution_count": 15,
   "id": "826852d9",
   "metadata": {},
   "outputs": [
    {
     "data": {
      "text/plain": [
       "['model.joblib']"
      ]
     },
     "execution_count": 15,
     "metadata": {},
     "output_type": "execute_result"
    }
   ],
   "source": [
    "dump(D, 'vectorized_corpus.joblib')\n",
    "dump(DF, 'vectorized_corpus.joblib')\n",
    "dump(N, 'vectorized_corpus.joblib')"
   ]
  },
  {
   "cell_type": "code",
   "execution_count": 18,
   "id": "5141c40d",
   "metadata": {},
   "outputs": [
    {
     "data": {
      "text/plain": [
       "11442"
      ]
     },
     "execution_count": 18,
     "metadata": {},
     "output_type": "execute_result"
    }
   ],
   "source": [
    "model_in = load('model.joblib')\n",
    "model_in[0]"
   ]
  }
 ],
 "metadata": {
  "kernelspec": {
   "display_name": "Python 3 (ipykernel)",
   "language": "python",
   "name": "python3"
  },
  "language_info": {
   "codemirror_mode": {
    "name": "ipython",
    "version": 3
   },
   "file_extension": ".py",
   "mimetype": "text/x-python",
   "name": "python",
   "nbconvert_exporter": "python",
   "pygments_lexer": "ipython3",
   "version": "3.9.10"
  }
 },
 "nbformat": 4,
 "nbformat_minor": 5
}
