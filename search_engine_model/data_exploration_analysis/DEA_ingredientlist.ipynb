{
 "cells": [
  {
   "cell_type": "code",
   "execution_count": 1,
   "id": "4e4a7194",
   "metadata": {},
   "outputs": [],
   "source": [
    "#!conda install -c conda-forge/label/cf202003 wordcloud"
   ]
  },
  {
   "cell_type": "code",
   "execution_count": 55,
   "id": "2e6057e5",
   "metadata": {},
   "outputs": [],
   "source": [
    "import sys\n",
    "import pandas as pd\n",
    "import numpy as np\n",
    "import os\n",
    "import matplotlib.pyplot as plt\n",
    "from collections import Counter\n",
    "import advertools as adv"
   ]
  },
  {
   "cell_type": "code",
   "execution_count": 3,
   "id": "6bc31f22",
   "metadata": {},
   "outputs": [
    {
     "name": "stdout",
     "output_type": "stream",
     "text": [
      "c:\\Users\\Nisa Ulumuddin\\Documents\\1_TechLabs_DS\\HappyCook\\wt21-happy-cook\n"
     ]
    }
   ],
   "source": [
    "print(os.getcwd())"
   ]
  },
  {
   "cell_type": "code",
   "execution_count": 4,
   "id": "5c85b3b2",
   "metadata": {},
   "outputs": [],
   "source": [
    "#cd_recipe = pd.read_csv('ds_dataset/core-data_recipe.csv')\n",
    "#cd_test_rating = pd.read_csv('ds_dataset/core-data-test_rating.csv')\n",
    "#cd_train_rating = pd.read_csv('ds_dataset/core-data-train_rating.csv')\n",
    "#cd_valid_rating = pd.read_csv('ds_dataset/core-data-valid_rating.csv')\n",
    "rd_interaction = pd.read_csv('ds_dataset/raw-data_interaction.csv')\n",
    "rd_recipe = pd.read_csv('ds_dataset/raw-data_recipe.csv')"
   ]
  },
  {
   "cell_type": "markdown",
   "id": "b9b8146e",
   "metadata": {},
   "source": [
    "## 2nd file: the recipe file \n",
    "\n",
    "There are 9 columns in this dataset..."
   ]
  },
  {
   "cell_type": "code",
   "execution_count": 8,
   "id": "f8166297",
   "metadata": {},
   "outputs": [
    {
     "name": "stdout",
     "output_type": "stream",
     "text": [
      "There are 49698 recipes in this dataset\n"
     ]
    },
    {
     "data": {
      "text/html": [
       "<div>\n",
       "<style scoped>\n",
       "    .dataframe tbody tr th:only-of-type {\n",
       "        vertical-align: middle;\n",
       "    }\n",
       "\n",
       "    .dataframe tbody tr th {\n",
       "        vertical-align: top;\n",
       "    }\n",
       "\n",
       "    .dataframe thead th {\n",
       "        text-align: right;\n",
       "    }\n",
       "</style>\n",
       "<table border=\"1\" class=\"dataframe\">\n",
       "  <thead>\n",
       "    <tr style=\"text-align: right;\">\n",
       "      <th></th>\n",
       "      <th>recipe_id</th>\n",
       "      <th>recipe_name</th>\n",
       "      <th>aver_rate</th>\n",
       "      <th>image_url</th>\n",
       "      <th>review_nums</th>\n",
       "      <th>ingredients</th>\n",
       "      <th>cooking_directions</th>\n",
       "      <th>nutritions</th>\n",
       "      <th>reviews</th>\n",
       "    </tr>\n",
       "  </thead>\n",
       "  <tbody>\n",
       "    <tr>\n",
       "      <th>0</th>\n",
       "      <td>222388</td>\n",
       "      <td>Homemade Bacon</td>\n",
       "      <td>5.000000</td>\n",
       "      <td>https://images.media-allrecipes.com/userphotos...</td>\n",
       "      <td>3</td>\n",
       "      <td>pork belly^smoked paprika^kosher salt^ground b...</td>\n",
       "      <td>{'directions': u'Prep\\n5 m\\nCook\\n2 h 45 m\\nRe...</td>\n",
       "      <td>{u'niacin': {u'hasCompleteData': False, u'name...</td>\n",
       "      <td>{8542392: {'rating': 5, 'followersCount': 11, ...</td>\n",
       "    </tr>\n",
       "    <tr>\n",
       "      <th>1</th>\n",
       "      <td>240488</td>\n",
       "      <td>Pork Loin, Apples, and Sauerkraut</td>\n",
       "      <td>4.764706</td>\n",
       "      <td>https://images.media-allrecipes.com/userphotos...</td>\n",
       "      <td>29</td>\n",
       "      <td>sauerkraut drained^Granny Smith apples sliced^...</td>\n",
       "      <td>{'directions': u'Prep\\n15 m\\nCook\\n2 h 30 m\\nR...</td>\n",
       "      <td>{u'niacin': {u'hasCompleteData': False, u'name...</td>\n",
       "      <td>{3574785: {'rating': 5, 'followersCount': 0, '...</td>\n",
       "    </tr>\n",
       "  </tbody>\n",
       "</table>\n",
       "</div>"
      ],
      "text/plain": [
       "   recipe_id                        recipe_name  aver_rate  \\\n",
       "0     222388                     Homemade Bacon   5.000000   \n",
       "1     240488  Pork Loin, Apples, and Sauerkraut   4.764706   \n",
       "\n",
       "                                           image_url  review_nums  \\\n",
       "0  https://images.media-allrecipes.com/userphotos...            3   \n",
       "1  https://images.media-allrecipes.com/userphotos...           29   \n",
       "\n",
       "                                         ingredients  \\\n",
       "0  pork belly^smoked paprika^kosher salt^ground b...   \n",
       "1  sauerkraut drained^Granny Smith apples sliced^...   \n",
       "\n",
       "                                  cooking_directions  \\\n",
       "0  {'directions': u'Prep\\n5 m\\nCook\\n2 h 45 m\\nRe...   \n",
       "1  {'directions': u'Prep\\n15 m\\nCook\\n2 h 30 m\\nR...   \n",
       "\n",
       "                                          nutritions  \\\n",
       "0  {u'niacin': {u'hasCompleteData': False, u'name...   \n",
       "1  {u'niacin': {u'hasCompleteData': False, u'name...   \n",
       "\n",
       "                                             reviews  \n",
       "0  {8542392: {'rating': 5, 'followersCount': 11, ...  \n",
       "1  {3574785: {'rating': 5, 'followersCount': 0, '...  "
      ]
     },
     "execution_count": 8,
     "metadata": {},
     "output_type": "execute_result"
    }
   ],
   "source": [
    "print(\"There are {} recipes in this dataset\".format(len(rd_recipe['recipe_id'].unique())))\n",
    "rd_recipe.head(2)"
   ]
  },
  {
   "cell_type": "code",
   "execution_count": 10,
   "id": "c09dd2d5",
   "metadata": {},
   "outputs": [
    {
     "data": {
      "text/html": [
       "<div>\n",
       "<style scoped>\n",
       "    .dataframe tbody tr th:only-of-type {\n",
       "        vertical-align: middle;\n",
       "    }\n",
       "\n",
       "    .dataframe tbody tr th {\n",
       "        vertical-align: top;\n",
       "    }\n",
       "\n",
       "    .dataframe thead th {\n",
       "        text-align: right;\n",
       "    }\n",
       "</style>\n",
       "<table border=\"1\" class=\"dataframe\">\n",
       "  <thead>\n",
       "    <tr style=\"text-align: right;\">\n",
       "      <th></th>\n",
       "      <th>0</th>\n",
       "      <th>1</th>\n",
       "      <th>2</th>\n",
       "      <th>3</th>\n",
       "      <th>4</th>\n",
       "      <th>5</th>\n",
       "      <th>6</th>\n",
       "      <th>7</th>\n",
       "      <th>8</th>\n",
       "      <th>9</th>\n",
       "      <th>...</th>\n",
       "      <th>25</th>\n",
       "      <th>26</th>\n",
       "      <th>27</th>\n",
       "      <th>28</th>\n",
       "      <th>29</th>\n",
       "      <th>30</th>\n",
       "      <th>31</th>\n",
       "      <th>32</th>\n",
       "      <th>33</th>\n",
       "      <th>34</th>\n",
       "    </tr>\n",
       "    <tr>\n",
       "      <th>recipe_id</th>\n",
       "      <th></th>\n",
       "      <th></th>\n",
       "      <th></th>\n",
       "      <th></th>\n",
       "      <th></th>\n",
       "      <th></th>\n",
       "      <th></th>\n",
       "      <th></th>\n",
       "      <th></th>\n",
       "      <th></th>\n",
       "      <th></th>\n",
       "      <th></th>\n",
       "      <th></th>\n",
       "      <th></th>\n",
       "      <th></th>\n",
       "      <th></th>\n",
       "      <th></th>\n",
       "      <th></th>\n",
       "      <th></th>\n",
       "      <th></th>\n",
       "      <th></th>\n",
       "    </tr>\n",
       "  </thead>\n",
       "  <tbody>\n",
       "    <tr>\n",
       "      <th>222388</th>\n",
       "      <td>pork belly</td>\n",
       "      <td>smoked paprika</td>\n",
       "      <td>kosher salt</td>\n",
       "      <td>ground black pepper</td>\n",
       "      <td>None</td>\n",
       "      <td>None</td>\n",
       "      <td>None</td>\n",
       "      <td>None</td>\n",
       "      <td>None</td>\n",
       "      <td>None</td>\n",
       "      <td>...</td>\n",
       "      <td>None</td>\n",
       "      <td>None</td>\n",
       "      <td>None</td>\n",
       "      <td>None</td>\n",
       "      <td>None</td>\n",
       "      <td>None</td>\n",
       "      <td>None</td>\n",
       "      <td>None</td>\n",
       "      <td>None</td>\n",
       "      <td>None</td>\n",
       "    </tr>\n",
       "    <tr>\n",
       "      <th>240488</th>\n",
       "      <td>sauerkraut drained</td>\n",
       "      <td>Granny Smith apples sliced</td>\n",
       "      <td>large onion</td>\n",
       "      <td>caraway seeds</td>\n",
       "      <td>apple cider divided</td>\n",
       "      <td>brown sugar</td>\n",
       "      <td>Rub:</td>\n",
       "      <td>Thai seasoning</td>\n",
       "      <td>salt</td>\n",
       "      <td>garlic powder</td>\n",
       "      <td>...</td>\n",
       "      <td>None</td>\n",
       "      <td>None</td>\n",
       "      <td>None</td>\n",
       "      <td>None</td>\n",
       "      <td>None</td>\n",
       "      <td>None</td>\n",
       "      <td>None</td>\n",
       "      <td>None</td>\n",
       "      <td>None</td>\n",
       "      <td>None</td>\n",
       "    </tr>\n",
       "  </tbody>\n",
       "</table>\n",
       "<p>2 rows × 35 columns</p>\n",
       "</div>"
      ],
      "text/plain": [
       "                           0                           1            2   \\\n",
       "recipe_id                                                                \n",
       "222388             pork belly              smoked paprika  kosher salt   \n",
       "240488     sauerkraut drained  Granny Smith apples sliced  large onion   \n",
       "\n",
       "                            3                    4            5     6   \\\n",
       "recipe_id                                                                \n",
       "222388     ground black pepper                 None         None  None   \n",
       "240488           caraway seeds  apple cider divided  brown sugar  Rub:   \n",
       "\n",
       "                       7     8              9   ...    25    26    27    28  \\\n",
       "recipe_id                                       ...                           \n",
       "222388               None  None           None  ...  None  None  None  None   \n",
       "240488     Thai seasoning  salt  garlic powder  ...  None  None  None  None   \n",
       "\n",
       "             29    30    31    32    33    34  \n",
       "recipe_id                                      \n",
       "222388     None  None  None  None  None  None  \n",
       "240488     None  None  None  None  None  None  \n",
       "\n",
       "[2 rows x 35 columns]"
      ]
     },
     "execution_count": 10,
     "metadata": {},
     "output_type": "execute_result"
    }
   ],
   "source": [
    "# a new dataframe was created here that correspond to the ingredient list in each recipe_id. but this is raw.\n",
    "db_temp = rd_recipe[\"ingredients\"].str.split('^',expand=True)\n",
    "db_temp.insert(0,\"recipe_id\", rd_recipe[\"recipe_id\"])\n",
    "db_temp.set_index(keys=\"recipe_id\",inplace=True)\n",
    "db_temp.head(2)"
   ]
  },
  {
   "cell_type": "code",
   "execution_count": 54,
   "id": "fbcb487e",
   "metadata": {},
   "outputs": [],
   "source": [
    "#creating a more refined table showing the counts of each ingredients\n",
    "\n",
    "ingr_tuple = db_temp.to_records(index=True)\n",
    "ingr_counter = Counter()\n",
    "for idx in range(1,len(db_temp.columns)):\n",
    "    ingr_counter.update(Counter(elem[idx] for elem in ingr_tuple))\n",
    "\n",
    "db_ingr = pd.DataFrame.from_dict(ingr_counter, orient='index', columns = ['count'])\n",
    "db_ingr = db_ingr[db_ingr.index.notnull()]"
   ]
  },
  {
   "cell_type": "markdown",
   "id": "a9a5cb1f",
   "metadata": {},
   "source": [
    "A new dataframe was created to show how many times an ingredient pops up in the dataset"
   ]
  },
  {
   "cell_type": "code",
   "execution_count": 18,
   "id": "779e3102",
   "metadata": {},
   "outputs": [
    {
     "data": {
      "image/png": "[encoded data removed]",
      "text/plain": [
       "<Figure size 432x288 with 1 Axes>"
      ]
     },
     "metadata": {
      "needs_background": "light"
     },
     "output_type": "display_data"
    }
   ],
   "source": [
    "top_50_ingr = db_ingr.sort_values(by='count',ascending=False).head(20)\n",
    "plt.bar(x=top_50_ingr.index, height=top_50_ingr['count'])\n",
    "plt.xticks(rotation='vertical')\n",
    "plt.title(\"Top 20 ingredients in the dataset\")\n",
    "plt.ylabel(\"Frequency\")\n",
    "plt.show()"
   ]
  },
  {
   "cell_type": "markdown",
   "id": "882b9c50",
   "metadata": {},
   "source": [
    "We can see here that unsurprisingly, the top 20 ingredients are staple ingredients for many dishes. I assume that most people have these in their homes. We expect that users won't even bother to type these ingredients. We can also see overlaps in ingredients, \"salt\" \"salt and pepper to taste\", and \"salt and ground black pepper to taste\""
   ]
  },
  {
   "cell_type": "code",
   "execution_count": 19,
   "id": "ff79a314",
   "metadata": {},
   "outputs": [
    {
     "data": {
      "image/png": "[encoded data removed]",
      "text/plain": [
       "<Figure size 432x288 with 1 Axes>"
      ]
     },
     "metadata": {
      "needs_background": "light"
     },
     "output_type": "display_data"
    }
   ],
   "source": [
    "top_50_ingr = db_ingr.sort_values(by='count',ascending=False).iloc[70:100]\n",
    "plt.bar(x=top_50_ingr.index, height=top_50_ingr['count'])\n",
    "plt.xticks(rotation='vertical')\n",
    "plt.title(\"Ingredients ranking 70th-100th in the dataset\")\n",
    "plt.ylabel(\"Frequency\")\n",
    "plt.show()\n",
    "\n"
   ]
  }
 ],
 "metadata": {
  "kernelspec": {
   "display_name": "Python 3 (ipykernel)",
   "language": "python",
   "name": "python3"
  },
  "language_info": {
   "codemirror_mode": {
    "name": "ipython",
    "version": 3
   },
   "file_extension": ".py",
   "mimetype": "text/x-python",
   "name": "python",
   "nbconvert_exporter": "python",
   "pygments_lexer": "ipython3",
   "version": "3.9.7"
  }
 },
 "nbformat": 4,
 "nbformat_minor": 5
}
