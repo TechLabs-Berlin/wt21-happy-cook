{
 "cells": [
  {
   "cell_type": "markdown",
   "metadata": {},
   "source": [
    "# Template for Model Evaluation\n",
    "\n",
    "evaluation written by:"
   ]
  },
  {
   "cell_type": "code",
   "execution_count": 2,
   "metadata": {},
   "outputs": [
    {
     "ename": "ModuleNotFoundError",
     "evalue": "No module named 'advertools'",
     "output_type": "error",
     "traceback": [
      "\u001b[0;31m---------------------------------------------------------------------------\u001b[0m",
      "\u001b[0;31mModuleNotFoundError\u001b[0m                       Traceback (most recent call last)",
      "\u001b[0;32m<ipython-input-2-0b68c8027cb9>\u001b[0m in \u001b[0;36m<module>\u001b[0;34m\u001b[0m\n\u001b[1;32m     20\u001b[0m \u001b[0;32mimport\u001b[0m \u001b[0mfunc_predict\u001b[0m \u001b[0;32mas\u001b[0m \u001b[0mpred\u001b[0m\u001b[0;34m\u001b[0m\u001b[0;34m\u001b[0m\u001b[0m\n\u001b[1;32m     21\u001b[0m \u001b[0;32mimport\u001b[0m \u001b[0mfunc_eval\u001b[0m \u001b[0;32mas\u001b[0m \u001b[0meve\u001b[0m\u001b[0;34m\u001b[0m\u001b[0;34m\u001b[0m\u001b[0m\n\u001b[0;32m---> 22\u001b[0;31m \u001b[0;32mimport\u001b[0m \u001b[0madvertools\u001b[0m \u001b[0;32mas\u001b[0m \u001b[0madv\u001b[0m\u001b[0;34m\u001b[0m\u001b[0;34m\u001b[0m\u001b[0m\n\u001b[0m",
      "\u001b[0;31mModuleNotFoundError\u001b[0m: No module named 'advertools'"
     ]
    }
   ],
   "source": [
    "import sys\n",
    "import pandas as pd\n",
    "import numpy as np\n",
    "import os\n",
    "import matplotlib.pyplot as plt\n",
    "from collections import Counter\n",
    "from sklearn.feature_extraction.text import CountVectorizer\n",
    "from nltk.corpus import stopwords\n",
    "from nltk.tokenize import word_tokenize\n",
    "from nltk.stem import PorterStemmer\n",
    "from collections import Counter\n",
    "from num2words import num2words\n",
    "import os\n",
    "import numpy as np\n",
    "import pandas as pd\n",
    "\n",
    "import func_similarityfunc as sim\n",
    "import func_tfidf as tfidf\n",
    "import func_datapreprocessing as pp\n",
    "import func_predict as pred \n",
    "import func_eval as eve\n",
    "import advertools as adv"
   ]
  },
  {
   "cell_type": "code",
   "execution_count": 3,
   "metadata": {},
   "outputs": [],
   "source": [
    "rd_recipe = pd.read_csv('clean_recipe_data.csv')\n",
    "eval_recipe = pd.read_csv('model_dataset.csv')"
   ]
  },
  {
   "cell_type": "code",
   "execution_count": 4,
   "metadata": {},
   "outputs": [],
   "source": [
    "processed_text = []    #processed text of the whole dataset\n",
    "for text in rd_recipe['cooking_directions']:\n",
    "    processed_text.append(word_tokenize(pp.preprocess(text)))"
   ]
  },
  {
   "cell_type": "code",
   "execution_count": 5,
   "metadata": {},
   "outputs": [],
   "source": [
    "[D, DF, N] = tfidf.vectorize_corpus(processed_text)"
   ]
  },
  {
   "cell_type": "markdown",
   "metadata": {},
   "source": [
    "# Evaluation of Model 1:\n",
    "Details of Model 1: \n",
    "- The model vectorizes the 'cooking directions' text to represent the vector of the recipe\n",
    "- cosine similarity function was used "
   ]
  },
  {
   "cell_type": "code",
   "execution_count": 12,
   "metadata": {},
   "outputs": [],
   "source": [
    "user_query = \"pork, onion\" # try a variety of queries yourself"
   ]
  },
  {
   "cell_type": "code",
   "execution_count": 13,
   "metadata": {},
   "outputs": [],
   "source": [
    "[ model , model_score] = pred.cosine_similarity(7, user_query, D , DF, N)"
   ]
  },
  {
   "cell_type": "markdown",
   "metadata": {},
   "source": [
    "The first evaluation metric "
   ]
  },
  {
   "cell_type": "code",
   "execution_count": 14,
   "metadata": {},
   "outputs": [
    {
     "data": {
      "text/html": [
       "<div>\n",
       "<style scoped>\n",
       "    .dataframe tbody tr th:only-of-type {\n",
       "        vertical-align: middle;\n",
       "    }\n",
       "\n",
       "    .dataframe tbody tr th {\n",
       "        vertical-align: top;\n",
       "    }\n",
       "\n",
       "    .dataframe thead th {\n",
       "        text-align: right;\n",
       "    }\n",
       "</style>\n",
       "<table border=\"1\" class=\"dataframe\">\n",
       "  <thead>\n",
       "    <tr style=\"text-align: right;\">\n",
       "      <th></th>\n",
       "      <th>id</th>\n",
       "      <th>ingredient</th>\n",
       "      <th>percent</th>\n",
       "    </tr>\n",
       "  </thead>\n",
       "  <tbody>\n",
       "    <tr>\n",
       "      <th>0</th>\n",
       "      <td>12114</td>\n",
       "      <td>[chili, powder, cumin, garlic, powder, bone, c...</td>\n",
       "      <td>0.5</td>\n",
       "    </tr>\n",
       "    <tr>\n",
       "      <th>1</th>\n",
       "      <td>349</td>\n",
       "      <td>[boneless, pork, tenderloins, medium, onion, h...</td>\n",
       "      <td>1.0</td>\n",
       "    </tr>\n",
       "    <tr>\n",
       "      <th>2</th>\n",
       "      <td>11326</td>\n",
       "      <td>[boneless, pork, tenderloin, dried, thyme, cru...</td>\n",
       "      <td>1.0</td>\n",
       "    </tr>\n",
       "    <tr>\n",
       "      <th>3</th>\n",
       "      <td>7853</td>\n",
       "      <td>[fluid, ounce, mustard, honey, worcestershire,...</td>\n",
       "      <td>1.0</td>\n",
       "    </tr>\n",
       "    <tr>\n",
       "      <th>4</th>\n",
       "      <td>37978</td>\n",
       "      <td>[pork, shoulder, salt, ground, black, pepper, ...</td>\n",
       "      <td>0.5</td>\n",
       "    </tr>\n",
       "    <tr>\n",
       "      <th>5</th>\n",
       "      <td>822</td>\n",
       "      <td>[vegetable, oil, boneless, pork, shoulder, roa...</td>\n",
       "      <td>1.0</td>\n",
       "    </tr>\n",
       "    <tr>\n",
       "      <th>6</th>\n",
       "      <td>10875</td>\n",
       "      <td>[pork, belly, soy, sauce, packed, brown, sugar...</td>\n",
       "      <td>0.5</td>\n",
       "    </tr>\n",
       "  </tbody>\n",
       "</table>\n",
       "</div>"
      ],
      "text/plain": [
       "      id                                         ingredient  percent\n",
       "0  12114  [chili, powder, cumin, garlic, powder, bone, c...      0.5\n",
       "1    349  [boneless, pork, tenderloins, medium, onion, h...      1.0\n",
       "2  11326  [boneless, pork, tenderloin, dried, thyme, cru...      1.0\n",
       "3   7853  [fluid, ounce, mustard, honey, worcestershire,...      1.0\n",
       "4  37978  [pork, shoulder, salt, ground, black, pepper, ...      0.5\n",
       "5    822  [vegetable, oil, boneless, pork, shoulder, roa...      1.0\n",
       "6  10875  [pork, belly, soy, sauce, packed, brown, sugar...      0.5"
      ]
     },
     "execution_count": 14,
     "metadata": {},
     "output_type": "execute_result"
    }
   ],
   "source": [
    "eve.effectivity_eval(model, user_query,rd_recipe)"
   ]
  },
  {
   "cell_type": "markdown",
   "metadata": {},
   "source": [
    "The second evaluation metric tries 4 model queries on a model dataset. The dataset consists of 57 data points. Each recipe was labeled either 1 or 0 to indicate whether it is a relevant recipe to the model query. The precision and recall scores are calculated for the top 7 recipes of each results.\n",
    "\n",
    "\n",
    "### Query List:\n",
    "\n",
    "Query 1:  beef, salt, pepper   \n",
    "\n",
    "Query 2: chicken, cream      \n",
    "\n",
    "Query 3: noodles, chicken   \n",
    "\n",
    "Query 4: beef, potatoes      \n",
    "\n",
    "### Score metric:\n",
    "1 = fulfils query\n",
    "\n",
    "0.5 = fulfils query but was not the user's preference\n",
    "\n",
    "0 = does not fulfil query"
   ]
  },
  {
   "cell_type": "code",
   "execution_count": 15,
   "metadata": {},
   "outputs": [
    {
     "data": {
      "text/html": [
       "<div>\n",
       "<style scoped>\n",
       "    .dataframe tbody tr th:only-of-type {\n",
       "        vertical-align: middle;\n",
       "    }\n",
       "\n",
       "    .dataframe tbody tr th {\n",
       "        vertical-align: top;\n",
       "    }\n",
       "\n",
       "    .dataframe thead th {\n",
       "        text-align: right;\n",
       "    }\n",
       "</style>\n",
       "<table border=\"1\" class=\"dataframe\">\n",
       "  <thead>\n",
       "    <tr style=\"text-align: right;\">\n",
       "      <th></th>\n",
       "      <th>Unnamed: 0</th>\n",
       "      <th>Index</th>\n",
       "      <th>recipe_id</th>\n",
       "      <th>recipe_name</th>\n",
       "      <th>user_id</th>\n",
       "      <th>rating</th>\n",
       "      <th>Query 1</th>\n",
       "      <th>Query 2</th>\n",
       "      <th>Query 3</th>\n",
       "      <th>Query 4</th>\n",
       "      <th>ingredients</th>\n",
       "      <th>cooking_directions</th>\n",
       "    </tr>\n",
       "  </thead>\n",
       "  <tbody>\n",
       "    <tr>\n",
       "      <th>0</th>\n",
       "      <td>0</td>\n",
       "      <td>1.0</td>\n",
       "      <td>23567</td>\n",
       "      <td>Slow-Cooker Pepper Steak</td>\n",
       "      <td>12145410.0</td>\n",
       "      <td>5</td>\n",
       "      <td>1</td>\n",
       "      <td>0</td>\n",
       "      <td>0</td>\n",
       "      <td>0</td>\n",
       "      <td>beef sirloin garlic powder taste vegetable oi...</td>\n",
       "      <td>{'directions': u'Prep\\n20 m\\nCook\\n4 h 10 m\\nR...</td>\n",
       "    </tr>\n",
       "    <tr>\n",
       "      <th>1</th>\n",
       "      <td>1</td>\n",
       "      <td>2.0</td>\n",
       "      <td>221958</td>\n",
       "      <td>Chef John's Perfect Prime Rib</td>\n",
       "      <td>12145410.0</td>\n",
       "      <td>5</td>\n",
       "      <td>1</td>\n",
       "      <td>0</td>\n",
       "      <td>0</td>\n",
       "      <td>0</td>\n",
       "      <td>prime rib roast unsalted butter freshly groun...</td>\n",
       "      <td>{'directions': u'Prep\\n10 m\\nCook\\n2 h 20 m\\nR...</td>\n",
       "    </tr>\n",
       "  </tbody>\n",
       "</table>\n",
       "</div>"
      ],
      "text/plain": [
       "   Unnamed: 0  Index  recipe_id                    recipe_name     user_id  \\\n",
       "0           0    1.0      23567       Slow-Cooker Pepper Steak  12145410.0   \n",
       "1           1    2.0     221958  Chef John's Perfect Prime Rib  12145410.0   \n",
       "\n",
       "   rating  Query 1  Query 2  Query 3  Query 4  \\\n",
       "0       5        1        0        0        0   \n",
       "1       5        1        0        0        0   \n",
       "\n",
       "                                         ingredients  \\\n",
       "0   beef sirloin garlic powder taste vegetable oi...   \n",
       "1   prime rib roast unsalted butter freshly groun...   \n",
       "\n",
       "                                  cooking_directions  \n",
       "0  {'directions': u'Prep\\n20 m\\nCook\\n4 h 10 m\\nR...  \n",
       "1  {'directions': u'Prep\\n10 m\\nCook\\n2 h 20 m\\nR...  "
      ]
     },
     "execution_count": 15,
     "metadata": {},
     "output_type": "execute_result"
    }
   ],
   "source": [
    "eval_recipe.head(2)"
   ]
  },
  {
   "cell_type": "code",
   "execution_count": 17,
   "metadata": {},
   "outputs": [],
   "source": [
    "[prec, rec] = eve.PrecRec_eval(eval_recipe)"
   ]
  },
  {
   "cell_type": "code",
   "execution_count": 18,
   "metadata": {},
   "outputs": [
    {
     "data": {
      "text/plain": [
       "[[0.08163265306122448,\n",
       "  0.5102040816326531,\n",
       "  0.08163265306122448,\n",
       "  0.32653061224489793],\n",
       " [0.2857142857142857,\n",
       "  0.7142857142857143,\n",
       "  0.2857142857142857,\n",
       "  0.5714285714285714]]"
      ]
     },
     "execution_count": 18,
     "metadata": {},
     "output_type": "execute_result"
    }
   ],
   "source": [
    "[prec, rec]"
   ]
  },
  {
   "cell_type": "markdown",
   "metadata": {},
   "source": [
    "# Evaluation of Model 2\n",
    "\n",
    "Use Jayashree's model version. add more details yourself. Analyze and compare the performance of each model!"
   ]
  },
  {
   "cell_type": "markdown",
   "metadata": {},
   "source": [
    "# Evaluation of Model 3\n",
    "\n",
    "Use Bilal's model version. add more details yourself. Analyze and compare the performance of each model!"
   ]
  },
  {
   "cell_type": "markdown",
   "metadata": {},
   "source": []
  }
 ],
 "metadata": {
  "kernelspec": {
   "display_name": "Python 3",
   "language": "python",
   "name": "python3"
  },
  "language_info": {
   "codemirror_mode": {
    "name": "ipython",
    "version": 3
   },
   "file_extension": ".py",
   "mimetype": "text/x-python",
   "name": "python",
   "nbconvert_exporter": "python",
   "pygments_lexer": "ipython3",
   "version": "3.7.6"
  }
 },
 "nbformat": 4,
 "nbformat_minor": 5
}
