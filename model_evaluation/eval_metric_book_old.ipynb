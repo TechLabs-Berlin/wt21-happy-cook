{
 "cells": [
  {
   "cell_type": "code",
   "execution_count": 1,
   "id": "6474ec09",
   "metadata": {},
   "outputs": [],
   "source": [
    "import sys\n",
    "import pandas as pd\n",
    "import numpy as np\n",
    "import os\n",
    "import matplotlib.pyplot as plt\n",
    "from collections import Counter\n",
    "import advertools as adv\n",
    "from sklearn.feature_extraction.text import CountVectorizer\n",
    "\n",
    "from nltk.corpus import stopwords\n",
    "from nltk.tokenize import word_tokenize\n",
    "from nltk.stem import PorterStemmer\n",
    "from collections import Counter\n",
    "from num2words import num2words\n",
    "\n",
    "import nltk\n",
    "import os\n",
    "import string\n",
    "import numpy as np\n",
    "import copy\n",
    "import pandas as pd\n",
    "import pickle\n",
    "import re\n",
    "import math\n",
    "from scipy.special import logsumexp"
   ]
  },
  {
   "cell_type": "code",
   "execution_count": 2,
   "id": "5a5c5ba4",
   "metadata": {},
   "outputs": [],
   "source": [
    "rd_interaction = pd.read_csv('../ds_dataset/raw-data_interaction.csv')\n",
    "rd_recipe = pd.read_csv('../ds_dataset/raw-data_recipe.csv')"
   ]
  },
  {
   "cell_type": "code",
   "execution_count": 3,
   "id": "71616a76",
   "metadata": {},
   "outputs": [],
   "source": [
    "def convert_lower_case(data):\n",
    "    return np.char.lower(data)"
   ]
  },
  {
   "cell_type": "code",
   "execution_count": 4,
   "id": "7e6d9126",
   "metadata": {},
   "outputs": [],
   "source": [
    "def remove_stop_words(data):\n",
    "    stop_words = stopwords.words('english')\n",
    "    words = word_tokenize(str(data))\n",
    "    new_text = \"\"\n",
    "    for w in words:\n",
    "        if w not in stop_words and len(w) > 1:\n",
    "            new_text = new_text + \" \" + w\n",
    "    return new_text"
   ]
  },
  {
   "cell_type": "code",
   "execution_count": 5,
   "id": "00499086",
   "metadata": {},
   "outputs": [],
   "source": [
    "def remove_apostrophe(data):\n",
    "    return np.char.replace(data, \"'\", \"\")"
   ]
  },
  {
   "cell_type": "code",
   "execution_count": 6,
   "id": "fbb76a57",
   "metadata": {},
   "outputs": [],
   "source": [
    "def stemming(data):\n",
    "    stemmer= PorterStemmer()\n",
    "    \n",
    "    tokens = word_tokenize(str(data))\n",
    "    new_text = \"\"\n",
    "    for w in tokens:\n",
    "        new_text = new_text + \" \" + stemmer.stem(w)\n",
    "    return new_text\n",
    "    "
   ]
  },
  {
   "cell_type": "code",
   "execution_count": 7,
   "id": "89ac968b",
   "metadata": {},
   "outputs": [],
   "source": [
    "def convert_numbers(data):\n",
    "    tokens = word_tokenize(str(data))\n",
    "    \n",
    "    new_text = \"\"\n",
    "    for w in tokens:\n",
    "\n",
    "        for character in w:\n",
    "            if character.isdigit():\n",
    "                w = re.sub(\"[A-Za-z]+\", lambda ele: \" \" + ele[0] + \" \", w)\n",
    "        \n",
    "        try:\n",
    "            \n",
    "            w = num2words(int(w))\n",
    "        except:\n",
    "            a = 0\n",
    "        new_text = new_text + \" \" + w\n",
    "        \n",
    "    new_text = np.char.replace(new_text, \"-\", \" \")\n",
    "    \n",
    "    return new_text"
   ]
  },
  {
   "cell_type": "code",
   "execution_count": 8,
   "id": "77050f42",
   "metadata": {},
   "outputs": [],
   "source": [
    "def remove_punctuation(data):\n",
    "    symbols = \"!\\\"#$%&()*+-./:;<=>?@[\\]^_`{|}~\"\n",
    "    \n",
    "    data = np.char.replace(data, \" m\\\\n\", ' minutes ' )\n",
    "    data = np.char.replace(data, 'h\\\\', ' hours ')\n",
    "    data = np.char.replace(data, ' h ', ' hours ')\n",
    "\n",
    "    data = np.char.replace(data, \"\\\\n\", ' ')\n",
    "\n",
    "    for i in range(len(symbols)):\n",
    "        \n",
    "        data = np.char.replace(data, symbols[i], ' ')\n",
    "        data = np.char.replace(data, \"  \", \" \")\n",
    "        \n",
    "    data = np.char.replace(data, ',', '')\n",
    "    data = np.char.replace(data, ' f ', ' fahrenheit ')\n",
    "    data = np.char.replace(data, ' c ', ' celcius ')\n",
    "    data = np.char.replace(data, \" u'\", ' ' )\n",
    "\n",
    "    return data"
   ]
  },
  {
   "cell_type": "code",
   "execution_count": 9,
   "id": "72ce080f",
   "metadata": {},
   "outputs": [],
   "source": [
    "def remove_otherwords(data):\n",
    "    data = np.char.replace(data, 'prep', ' ')\n",
    "    data = np.char.replace(data, 'directions', ' ')\n",
    "    return data"
   ]
  },
  {
   "cell_type": "code",
   "execution_count": 10,
   "id": "9c195e96",
   "metadata": {},
   "outputs": [],
   "source": [
    "def preprocess(data):\n",
    "    data = convert_lower_case(data)\n",
    "    data = convert_numbers(data)\n",
    "    data = remove_punctuation(data) #remove comma seperately\n",
    "    data = convert_numbers(data)\n",
    "    data = remove_apostrophe(data)\n",
    "    data = remove_stop_words(data)\n",
    "    data = convert_numbers(data)\n",
    "    data = remove_punctuation(data)\n",
    "    data = convert_numbers(data)\n",
    "    data = remove_stop_words(data) #needed again as num2word is giving stop words 101 - one hundred and one\n",
    "    return data"
   ]
  },
  {
   "cell_type": "code",
   "execution_count": 11,
   "id": "b49e36b4",
   "metadata": {},
   "outputs": [],
   "source": [
    "def doc_freq(word):\n",
    "    c = 0\n",
    "    try:\n",
    "        c = DF[word]\n",
    "    except:\n",
    "        pass\n",
    "    return c"
   ]
  },
  {
   "cell_type": "code",
   "execution_count": 12,
   "id": "3021064d",
   "metadata": {},
   "outputs": [],
   "source": [
    "def cosine_sim(a, b):\n",
    "    cos_sim = np.dot(a, b)/(np.linalg.norm(a)*np.linalg.norm(b))\n",
    "    return cos_sim"
   ]
  },
  {
   "cell_type": "code",
   "execution_count": 13,
   "id": "d2e8e178",
   "metadata": {},
   "outputs": [],
   "source": [
    "def gen_vector(tokens,dict_vocab,N):\n",
    "\n",
    "    total_vocab = [x for x in dict_vocab]\n",
    "    \n",
    "    \n",
    "    Q = np.zeros((len(total_vocab)))\n",
    "    \n",
    "    counter = Counter(tokens)\n",
    "    words_count = len(tokens)\n",
    "\n",
    "    query_weights = {}\n",
    "    \n",
    "    for token in np.unique(tokens):\n",
    "        \n",
    "        tf = counter[token]/words_count\n",
    "        df = doc_freq(token)\n",
    "        idf = math.log((N+1)/(df+1))\n",
    "\n",
    "        try:\n",
    "            ind = total_vocab.index(token)\n",
    "            Q[ind] = tf*idf\n",
    "        except:\n",
    "            pass\n",
    "        \n",
    "    return Q"
   ]
  },
  {
   "cell_type": "code",
   "execution_count": 14,
   "id": "2ffd0a5e",
   "metadata": {},
   "outputs": [],
   "source": [
    "def cosine_similarity(k, query, dataset, dict_vocab, N):\n",
    "    print(\"Computing Cosine Similarity....\")\n",
    "    preprocessed_query = preprocess(query)\n",
    "    tokens = word_tokenize(str(preprocessed_query))\n",
    "    \n",
    "    \n",
    "    #print(\"\\nQuery:\", query)\n",
    "    #print(\"\")\n",
    "    #print(tokens)\n",
    "    \n",
    "    d_cosines = []\n",
    "    \n",
    "    query_vector = gen_vector(tokens, dict_vocab, N)\n",
    "\n",
    "    \n",
    "    \n",
    "    for d in dataset:\n",
    "        d_cosines.append(cosine_sim(query_vector, d))\n",
    "        \n",
    "    score = np.sort(np.array(d_cosines))[-k:][::-1]\n",
    "    out = np.array(d_cosines).argsort()[-k:][::-1]\n",
    "    \n",
    "    \n",
    "    #print(\"\")\n",
    "    \n",
    "    #print(out)\n",
    "    \n",
    "    return out,score "
   ]
  },
  {
   "cell_type": "code",
   "execution_count": 15,
   "id": "b134df7e",
   "metadata": {},
   "outputs": [],
   "source": [
    "def print_recipe(row):\n",
    "    print(\"Recipe name\")\n",
    "    print(preprocess(rd_recipe['recipe_name'][row]))\n",
    "    print(\" \")\n",
    "    print(\"Cooking directions\")\n",
    "    print(preprocess(rd_recipe['cooking_directions'][row]))\n",
    "    print(\" \")\n",
    "    print(\"Ingredients\")\n",
    "    print(preprocess(rd_recipe['ingredients'][row]))\n",
    "    print(\" \")\n"
   ]
  },
  {
   "cell_type": "code",
   "execution_count": 16,
   "id": "1d7b5e8f",
   "metadata": {},
   "outputs": [],
   "source": [
    "join_header = ['recipe_id', 'recipe_name']\n",
    "\n",
    "rd_name = rd_recipe[join_header]\n",
    "merged_inner = pd.merge(left=rd_name, right=rd_interaction)\n",
    "\n",
    "def user_rate(user_id):\n",
    "    filter = rd_interaction['user_id'] == user_id\n",
    "    user_int = merged_inner.loc[filter, :]\n",
    "    return user_int"
   ]
  },
  {
   "cell_type": "code",
   "execution_count": 17,
   "id": "badd701c",
   "metadata": {},
   "outputs": [
    {
     "name": "stderr",
     "output_type": "stream",
     "text": [
      "2022-01-29 23:01:51,589 | INFO | category.py:227 | update | Using categorical units to plot a list of strings that are all parsable as floats or dates. If these strings should be plotted as numbers, cast to the appropriate data type before plotting.\n",
      "2022-01-29 23:01:51,592 | INFO | category.py:227 | update | Using categorical units to plot a list of strings that are all parsable as floats or dates. If these strings should be plotted as numbers, cast to the appropriate data type before plotting.\n"
     ]
    },
    {
     "data": {
      "image/png": "[encoded data removed]",
      "text/plain": [
       "<Figure size 432x288 with 1 Axes>"
      ]
     },
     "metadata": {
      "needs_background": "light"
     },
     "output_type": "display_data"
    }
   ],
   "source": [
    "unique_id = rd_interaction['user_id'].unique()\n",
    "int_count = rd_interaction['user_id'].value_counts()\n",
    "top_10_id = int_count.head(10)\n",
    "index_top10id = top_10_id.index.values.tolist()\n",
    "id_string = [str(x) for x in index_top10id]\n",
    "\n",
    "plt.bar(x=id_string, height=top_10_id.values)\n",
    "plt.xticks(rotation='vertical')\n",
    "plt.title(\"Top 10 most interacted users\")\n",
    "plt.ylabel(\"Frequency\")\n",
    "plt.show()"
   ]
  },
  {
   "cell_type": "markdown",
   "id": "6a737d79",
   "metadata": {},
   "source": [
    "# Collecting fixed list of recipes\n",
    "\n",
    "Selecting 20 recipes, 4 recipes corresponding to a query. "
   ]
  },
  {
   "cell_type": "markdown",
   "id": "e3caf614",
   "metadata": {},
   "source": [
    "No difference with Ganyi's test tbh"
   ]
  },
  {
   "cell_type": "code",
   "execution_count": 18,
   "id": "2892e95a",
   "metadata": {},
   "outputs": [
    {
     "data": {
      "text/html": [
       "<div>\n",
       "<style scoped>\n",
       "    .dataframe tbody tr th:only-of-type {\n",
       "        vertical-align: middle;\n",
       "    }\n",
       "\n",
       "    .dataframe tbody tr th {\n",
       "        vertical-align: top;\n",
       "    }\n",
       "\n",
       "    .dataframe thead th {\n",
       "        text-align: right;\n",
       "    }\n",
       "</style>\n",
       "<table border=\"1\" class=\"dataframe\">\n",
       "  <thead>\n",
       "    <tr style=\"text-align: right;\">\n",
       "      <th></th>\n",
       "      <th>user_id</th>\n",
       "      <th>recipe_id</th>\n",
       "      <th>rating</th>\n",
       "      <th>dateLastModified</th>\n",
       "    </tr>\n",
       "  </thead>\n",
       "  <tbody>\n",
       "    <tr>\n",
       "      <th>0</th>\n",
       "      <td>8542392</td>\n",
       "      <td>222388</td>\n",
       "      <td>5</td>\n",
       "      <td>2017-04-22T12:46:43.663\\r\\n</td>\n",
       "    </tr>\n",
       "    <tr>\n",
       "      <th>1</th>\n",
       "      <td>11174581</td>\n",
       "      <td>222388</td>\n",
       "      <td>5</td>\n",
       "      <td>2013-06-20T15:50:25.96\\r\\n</td>\n",
       "    </tr>\n",
       "    <tr>\n",
       "      <th>2</th>\n",
       "      <td>8262477</td>\n",
       "      <td>222388</td>\n",
       "      <td>5</td>\n",
       "      <td>2015-02-14T07:27:51.307\\r\\n</td>\n",
       "    </tr>\n",
       "    <tr>\n",
       "      <th>3</th>\n",
       "      <td>3574785</td>\n",
       "      <td>240488</td>\n",
       "      <td>5</td>\n",
       "      <td>2017-10-07T18:20:08.973\\r\\n</td>\n",
       "    </tr>\n",
       "    <tr>\n",
       "      <th>4</th>\n",
       "      <td>12145410</td>\n",
       "      <td>240488</td>\n",
       "      <td>2</td>\n",
       "      <td>2018-01-06T00:06:09.563\\r\\n</td>\n",
       "    </tr>\n",
       "  </tbody>\n",
       "</table>\n",
       "</div>"
      ],
      "text/plain": [
       "    user_id  recipe_id  rating             dateLastModified\n",
       "0   8542392     222388       5  2017-04-22T12:46:43.663\\r\\n\n",
       "1  11174581     222388       5   2013-06-20T15:50:25.96\\r\\n\n",
       "2   8262477     222388       5  2015-02-14T07:27:51.307\\r\\n\n",
       "3   3574785     240488       5  2017-10-07T18:20:08.973\\r\\n\n",
       "4  12145410     240488       2  2018-01-06T00:06:09.563\\r\\n"
      ]
     },
     "execution_count": 18,
     "metadata": {},
     "output_type": "execute_result"
    }
   ],
   "source": [
    "rd_interaction.head(5)"
   ]
  },
  {
   "cell_type": "code",
   "execution_count": 19,
   "id": "3bcd2f9c",
   "metadata": {},
   "outputs": [],
   "source": [
    "user_df = user_rate(12145410)\n",
    "rd_user = pd.merge(left=user_df, right=rd_recipe)\n",
    "rd_user['ingredients'] = rd_user['ingredients'].apply(lambda x: preprocess(x))\n",
    "rd_user.drop(columns = [\"cooking_directions\", \"nutritions\", \"reviews\", \"image_url\", \"review_nums\",\"aver_rate\",\"dateLastModified\"], inplace=True)"
   ]
  },
  {
   "cell_type": "code",
   "execution_count": 20,
   "id": "7fc1d704",
   "metadata": {},
   "outputs": [],
   "source": [
    "rd_user.to_csv('user_12145410.csv', index=True)"
   ]
  },
  {
   "cell_type": "markdown",
   "id": "977cf222",
   "metadata": {},
   "source": [
    "We will use this truncated dataset for our evaluation..\n",
    "\n",
    "Query 1:  beef, salt, pepper (user-rate)  \n",
    "\n",
    "Query 2: chicken, cream      (user-rate)\n",
    "\n",
    "Query 3: noodles, chicken    (user-rate)\n",
    "\n",
    "Query 4: beef, potatoes      (user-rate)\n",
    "\n",
    "1 = fulfils query\n",
    "\n",
    "0.5 = fulfils query but was not the user's preference\n",
    "\n",
    "0 = does not fulfil query"
   ]
  },
  {
   "cell_type": "code",
   "execution_count": 22,
   "id": "056cde60",
   "metadata": {},
   "outputs": [],
   "source": [
    "eval_data = pd.read_csv('user_12145410_eval.csv')\n",
    "header = [\"recipe_id\",\"cooking_directions\"]\n",
    "rd_dir = rd_recipe[header]\n",
    "eval_df = pd.merge(left=eval_data, right=rd_dir)\n",
    "#eval_df['cooking_directions'] = eval_df['cooking_directions'].apply(lambda x: preprocess(x))\n",
    "#eval_df.set_index(keys=\"recipe_id\", inplace=True)"
   ]
  },
  {
   "cell_type": "code",
   "execution_count": 23,
   "id": "6ee18424",
   "metadata": {},
   "outputs": [],
   "source": [
    "eval_df.to_csv('model_dataset.csv', index=True)"
   ]
  },
  {
   "cell_type": "code",
   "execution_count": 24,
   "id": "8caf9020",
   "metadata": {},
   "outputs": [
    {
     "data": {
      "text/html": [
       "<div>\n",
       "<style scoped>\n",
       "    .dataframe tbody tr th:only-of-type {\n",
       "        vertical-align: middle;\n",
       "    }\n",
       "\n",
       "    .dataframe tbody tr th {\n",
       "        vertical-align: top;\n",
       "    }\n",
       "\n",
       "    .dataframe thead th {\n",
       "        text-align: right;\n",
       "    }\n",
       "</style>\n",
       "<table border=\"1\" class=\"dataframe\">\n",
       "  <thead>\n",
       "    <tr style=\"text-align: right;\">\n",
       "      <th></th>\n",
       "      <th>Index</th>\n",
       "      <th>recipe_id</th>\n",
       "      <th>recipe_name</th>\n",
       "      <th>user_id</th>\n",
       "      <th>rating</th>\n",
       "      <th>Query 1</th>\n",
       "      <th>Query 2</th>\n",
       "      <th>Query 3</th>\n",
       "      <th>Query 4</th>\n",
       "      <th>ingredients</th>\n",
       "      <th>cooking_directions</th>\n",
       "    </tr>\n",
       "  </thead>\n",
       "  <tbody>\n",
       "    <tr>\n",
       "      <th>0</th>\n",
       "      <td>1.0</td>\n",
       "      <td>23567</td>\n",
       "      <td>Slow-Cooker Pepper Steak</td>\n",
       "      <td>12145410.0</td>\n",
       "      <td>5</td>\n",
       "      <td>1</td>\n",
       "      <td>0</td>\n",
       "      <td>0</td>\n",
       "      <td>0</td>\n",
       "      <td>beef sirloin garlic powder taste vegetable oi...</td>\n",
       "      <td>{'directions': u'Prep\\n20 m\\nCook\\n4 h 10 m\\nR...</td>\n",
       "    </tr>\n",
       "    <tr>\n",
       "      <th>1</th>\n",
       "      <td>2.0</td>\n",
       "      <td>221958</td>\n",
       "      <td>Chef John's Perfect Prime Rib</td>\n",
       "      <td>12145410.0</td>\n",
       "      <td>5</td>\n",
       "      <td>1</td>\n",
       "      <td>0</td>\n",
       "      <td>0</td>\n",
       "      <td>0</td>\n",
       "      <td>prime rib roast unsalted butter freshly groun...</td>\n",
       "      <td>{'directions': u'Prep\\n10 m\\nCook\\n2 h 20 m\\nR...</td>\n",
       "    </tr>\n",
       "  </tbody>\n",
       "</table>\n",
       "</div>"
      ],
      "text/plain": [
       "   Index  recipe_id                    recipe_name     user_id  rating  \\\n",
       "0    1.0      23567       Slow-Cooker Pepper Steak  12145410.0       5   \n",
       "1    2.0     221958  Chef John's Perfect Prime Rib  12145410.0       5   \n",
       "\n",
       "   Query 1  Query 2  Query 3  Query 4  \\\n",
       "0        1        0        0        0   \n",
       "1        1        0        0        0   \n",
       "\n",
       "                                         ingredients  \\\n",
       "0   beef sirloin garlic powder taste vegetable oi...   \n",
       "1   prime rib roast unsalted butter freshly groun...   \n",
       "\n",
       "                                  cooking_directions  \n",
       "0  {'directions': u'Prep\\n20 m\\nCook\\n4 h 10 m\\nR...  \n",
       "1  {'directions': u'Prep\\n10 m\\nCook\\n2 h 20 m\\nR...  "
      ]
     },
     "execution_count": 24,
     "metadata": {},
     "output_type": "execute_result"
    }
   ],
   "source": [
    "eval_df.head(2)"
   ]
  },
  {
   "cell_type": "code",
   "execution_count": 25,
   "id": "4cf45de4",
   "metadata": {},
   "outputs": [],
   "source": [
    "processed_sample = []\n",
    "for text in eval_df['cooking_directions']:\n",
    "    processed_sample.append(word_tokenize(preprocess(text)))"
   ]
  },
  {
   "cell_type": "code",
   "execution_count": 26,
   "id": "532d9b36",
   "metadata": {},
   "outputs": [],
   "source": [
    "\n",
    "def vectorize_corpus(processed_text):\t\n",
    "\tDF = {}\n",
    "\n",
    "\tN = len(processed_text)\n",
    "\tfor i in range(N):\n",
    "\t\ttokens = processed_text[i]\n",
    "    \n",
    "\t\tfor w in tokens:\n",
    "\t\t\t#print(w)\n",
    "\t\t\ttry:\n",
    "\t\t\t\tDF[w].add(i)\n",
    "\t\t\texcept:\n",
    "\t\t\t\tDF[w] = {i}\n",
    "\n",
    "\tfor i in DF:\n",
    "\t\tDF[i] = len(DF[i])\n",
    "\t\n",
    "\ttotal_vocab_size = len(DF)\n",
    "\ttotal_vocab = [x for x in DF]\n",
    "\n",
    "\tdoc = 0\n",
    "\n",
    "\ttf_idf = {}\n",
    "\n",
    "\tfor i in range(N):\n",
    "    \n",
    "\t\ttokens = processed_text[i]\n",
    "    \n",
    "\t\tcounter = Counter(tokens)\n",
    "\t\twords_count = len(tokens)\n",
    "    \n",
    "\t\tfor token in np.unique(tokens):\n",
    "        \n",
    "\t\t\ttf = counter[token]/words_count\n",
    "\t\t\tdf = doc_freq(token)\n",
    "\t\t\tidf = np.log((N+1)/(df+1))\n",
    "        \n",
    "\t\t\ttf_idf[doc, token] = tf*idf\n",
    "\n",
    "\t\tdoc += 1\n",
    "\t\n",
    "\tD = np.zeros((N, total_vocab_size))\n",
    "\tfor i in tf_idf:\n",
    "\t\ttry:\n",
    "\t\t\tind = total_vocab.index(i[1])\n",
    "\t\t\tD[i[0]][ind] = tf_idf[i]\n",
    "\t\texcept:\n",
    "\t\t\tpass\n",
    "\treturn D, DF , N"
   ]
  },
  {
   "cell_type": "code",
   "execution_count": 27,
   "id": "22d37469",
   "metadata": {},
   "outputs": [],
   "source": [
    "def print_eval(user_query, processed_text):   \n",
    "\n",
    "    print(\"query is: \" + user_query)\n",
    "    [dataset, dict_vocab, N] = vectorize_corpus(processed_text)\n",
    "    \n",
    "    [Q,score] = cosine_similarity(7, user_query, dataset, dict_vocab, N)\n",
    "    print(\"index,   recipe_id,    recipe name,   user rating,   similarity score\")\n",
    "    n = 0 \n",
    "    for i in Q:\n",
    "        recipname = preprocess(eval_df['recipe_name'][i])\n",
    "        averate = np.around(eval_df['rating'][i],2)\n",
    "        simscore = np.around(score[n]*100,2)\n",
    "        recipid = eval_df['recipe_id'][i]\n",
    "        print( str(i) + \"   \" + str(recipid) + \"   \" + str(recipname)  +  \"   \" +  str(averate) + \"   \" + str(simscore))\n",
    "        n += 1"
   ]
  },
  {
   "cell_type": "code",
   "execution_count": 28,
   "id": "eb3df28f",
   "metadata": {},
   "outputs": [],
   "source": [
    "import sklearn.metrics as met"
   ]
  },
  {
   "cell_type": "code",
   "execution_count": 29,
   "id": "ef242307",
   "metadata": {},
   "outputs": [],
   "source": [
    "def eval_score(user_query, processed_text, query_num):\n",
    "    [dataset, dict_vocab, N] = vectorize_corpus(processed_text)\n",
    "    [Q,score] = cosine_similarity(10, user_query, dataset, dict_vocab, N)\n",
    "    \n",
    "\n",
    "    eval_reindex_df = eval_df.reindex(Q)\n",
    "\n",
    "    \n",
    "\n",
    "    header_name = str(\"Query \") + str(query_num)\n",
    "    #eval_data_query = eval_data[header_name]\n",
    "    relevancy = np.array(eval_reindex_df[header_name][0:7])\n",
    "    ratingscore = np.array(eval_reindex_df['rating'][0:5])\n",
    "\n",
    "    y_pred = [1,1,1,1,1,1,1]\n",
    "    y_true = np.array(eval_reindex_df[header_name][0:7]) \n",
    "    print(relevancy)\n",
    "\n",
    "    precision = met.precision_score(y_true, y_pred, average='weighted', zero_division = 0)\n",
    "    recall = met.recall_score(y_true, y_pred, average='weighted' , zero_division = 0 )\n",
    "    \n",
    "\n",
    "    return  precision, recall"
   ]
  },
  {
   "cell_type": "code",
   "execution_count": 30,
   "id": "d60c51ce",
   "metadata": {},
   "outputs": [],
   "source": [
    "def query_class(num):\n",
    "    if num == 1:\n",
    "        user_query = \"beef, salt, pepper\"\n",
    "    elif num == 2: \n",
    "        user_query = \"chicken, cream\"\n",
    "    elif num == 3:\n",
    "        user_query = \"noodles, chicken\"\n",
    "    elif num == 4:\n",
    "        user_query = \"beef, potatoes\"\n",
    "    return user_query"
   ]
  },
  {
   "cell_type": "code",
   "execution_count": 31,
   "id": "bae25206",
   "metadata": {},
   "outputs": [
    {
     "name": "stdout",
     "output_type": "stream",
     "text": [
      "Using the evaluation dataset...\n",
      "query is: chicken, cream\n",
      "Computing Cosine Similarity....\n",
      "index,   recipe_id,    recipe name,   user rating,   similarity score\n",
      "17   8964    chicken la charlie   3   56.25\n",
      "35   8532    easy cheesy chicken   3   47.43\n",
      "31   8797    lizzy creamy chicken bake   3   43.99\n",
      "29   241716    chicken francesa   3   42.54\n",
      "30   218621    easy creamy chicken casserole   3   42.52\n",
      "32   244641    simple easy coq au vin   3   41.16\n",
      "27   240900    mike maple chicken   3   38.57\n",
      "Computing Cosine Similarity....\n",
      "[1 1 1 0 1 0 0]\n",
      "\n",
      "Precision: 0.33  Recall: 0.57\n"
     ]
    }
   ],
   "source": [
    "print(\"Using the evaluation dataset...\")\n",
    "\n",
    "query_num = input(\"Enter a query number (1-4):\")\n",
    "user_query = query_class(int(query_num))\n",
    "print_eval(user_query,processed_sample)\n",
    "\n",
    "[prec , recal ] = eval_score(user_query, processed_sample, query_num)\n",
    "\n",
    "print(\"\")\n",
    "print(\"Precision: {}  Recall: {}\".format(np.around(prec,2) , np.around(recal,2) ))"
   ]
  },
  {
   "cell_type": "markdown",
   "id": "f76d9f73",
   "metadata": {},
   "source": []
  }
 ],
 "metadata": {
  "kernelspec": {
   "display_name": "Python 3 (ipykernel)",
   "language": "python",
   "name": "python3"
  },
  "language_info": {
   "codemirror_mode": {
    "name": "ipython",
    "version": 3
   },
   "file_extension": ".py",
   "mimetype": "text/x-python",
   "name": "python",
   "nbconvert_exporter": "python",
   "pygments_lexer": "ipython3",
   "version": "3.9.7"
  }
 },
 "nbformat": 4,
 "nbformat_minor": 5
}
