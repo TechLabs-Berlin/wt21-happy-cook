{
 "cells": [
  {
   "cell_type": "markdown",
   "id": "f83a32ed",
   "metadata": {},
   "source": [
    "# Template for Model Evaluation\n",
    "\n",
    "template written by Nisa Ulumuddin\n",
    "\n",
    "evaluation done by ... "
   ]
  },
  {
   "cell_type": "code",
   "execution_count": 1,
   "id": "4d8ecdb0",
   "metadata": {},
   "outputs": [],
   "source": [
    "import sys\n",
    "import pandas as pd\n",
    "import numpy as np\n",
    "import os\n",
    "import matplotlib.pyplot as plt\n",
    "from collections import Counter\n",
    "import advertools as adv\n",
    "from sklearn.feature_extraction.text import CountVectorizer\n",
    "from nltk.corpus import stopwords\n",
    "from nltk.tokenize import word_tokenize\n",
    "from nltk.stem import PorterStemmer\n",
    "from collections import Counter\n",
    "from num2words import num2words\n",
    "import os\n",
    "import numpy as np\n",
    "import pandas as pd\n",
    "import sklearn.metrics as met\n",
    "from scipy.spatial.distance import euclidean\n",
    "\n",
    "import func_similarityfunc as sim\n",
    "import func_tfidf as tfidf\n",
    "import func_datapreprocessing as pp\n",
    "import func_predict as pred \n",
    "import func_eval as eve"
   ]
  },
  {
   "cell_type": "code",
   "execution_count": 2,
   "id": "8c3cffcc",
   "metadata": {},
   "outputs": [],
   "source": [
    "rd_recipe = pd.read_csv('clean_recipe_data.csv')\n",
    "eval_recipe = pd.read_csv('model_dataset.csv')"
   ]
  },
  {
   "cell_type": "markdown",
   "id": "15e93dd2",
   "metadata": {},
   "source": [
    "## Evaluation Functions \n",
    "\n",
    "For the evaluation of the model, we have created two evaluation functions. \n",
    "\n",
    "**************\n",
    "\n",
    "### 1. Effectivity Function\n",
    "The first evaluation function is called **Effectivity Function**. This function calculates the percentage of queried ingredients inside the recommended recipes outputted by the model. \n",
    "\n",
    "The syntax to use this function is shown below:\n",
    "\n",
    "`percent_table = eve.effectivity_eval(Q, query,raw_recipe)`\n",
    "\n",
    "where:\n",
    "* `Q` is the list of recommended recipe indexes (of rd_recipe) outputted by the model\n",
    "* `query` is the string of user query \n",
    "* `raw_recipe` is the dataframe of the recipe table \n",
    "\n",
    "and `percent_table` is a dataframe showing percentage values of how many ingredients in the query actually popped up in the recipes recommended by the model. \n",
    "\n",
    "***********"
   ]
  },
  {
   "cell_type": "markdown",
   "id": "aa03d65e",
   "metadata": {},
   "source": [
    "### 2. Precision/Recall Analysis Based on Model Dataset \n",
    "\n",
    "Unfortunately, it was highly difficult to obtain datasets which connects a query of ingredients to the clicking rate of recipes. Ideally, our team would conduct a survey of sufficient scale to gather this data. However, due to the limitations of time, we have been advised to generate a model dataset connected that is connected to a set of model queries. \n",
    "\n",
    "The dataset is loaded into the variable `eval_recipe`. It consists of 57 data points. Each recipe was labeled either 1 (relevant) or 0(irrelevant) to indicate whether it is a relevant recipe to the model query. We can then do statistical analysis based on these results (i.e. recall/precision type analysis)\n",
    "\n",
    "\n",
    "#### Query List:\n",
    "\n",
    "* Query 1:  beef, salt, pepper   \n",
    "* Query 2: chicken, cream      \n",
    "* Query 3: noodles, chicken   \n",
    "* Query 4: beef, potatoes      \n",
    "\n",
    "#### Score metric:\n",
    "* 1 = fulfils query\n",
    "* 0 = does not fulfil query"
   ]
  },
  {
   "cell_type": "markdown",
   "id": "925f473f",
   "metadata": {},
   "source": [
    "Here, we load the `eval_recipe` i.e. the model dataset"
   ]
  },
  {
   "cell_type": "code",
   "execution_count": 3,
   "id": "f093ba6b",
   "metadata": {},
   "outputs": [
    {
     "data": {
      "text/html": [
       "<div>\n",
       "<style scoped>\n",
       "    .dataframe tbody tr th:only-of-type {\n",
       "        vertical-align: middle;\n",
       "    }\n",
       "\n",
       "    .dataframe tbody tr th {\n",
       "        vertical-align: top;\n",
       "    }\n",
       "\n",
       "    .dataframe thead th {\n",
       "        text-align: right;\n",
       "    }\n",
       "</style>\n",
       "<table border=\"1\" class=\"dataframe\">\n",
       "  <thead>\n",
       "    <tr style=\"text-align: right;\">\n",
       "      <th></th>\n",
       "      <th>index</th>\n",
       "      <th>recipe_id</th>\n",
       "      <th>recipe_name</th>\n",
       "      <th>user_id</th>\n",
       "      <th>rating</th>\n",
       "      <th>Query 1</th>\n",
       "      <th>Query 2</th>\n",
       "      <th>Query 3</th>\n",
       "      <th>Query 4</th>\n",
       "      <th>ingredients</th>\n",
       "      <th>cooking_directions</th>\n",
       "    </tr>\n",
       "  </thead>\n",
       "  <tbody>\n",
       "    <tr>\n",
       "      <th>0</th>\n",
       "      <td>24</td>\n",
       "      <td>56648</td>\n",
       "      <td>Gravy potatoes</td>\n",
       "      <td>NaN</td>\n",
       "      <td>3</td>\n",
       "      <td>0</td>\n",
       "      <td>0</td>\n",
       "      <td>0</td>\n",
       "      <td>1</td>\n",
       "      <td>baking potatoes ground beef small onion conden...</td>\n",
       "      <td>{'directions': u'Prep\\n5 m\\nCook\\n1 h 15 m\\nRe...</td>\n",
       "    </tr>\n",
       "    <tr>\n",
       "      <th>1</th>\n",
       "      <td>25</td>\n",
       "      <td>74224</td>\n",
       "      <td>meat loaf pie</td>\n",
       "      <td>NaN</td>\n",
       "      <td>3</td>\n",
       "      <td>0</td>\n",
       "      <td>0</td>\n",
       "      <td>0</td>\n",
       "      <td>1</td>\n",
       "      <td>ground beef small onion egg ketchup worcesters...</td>\n",
       "      <td>{'directions': u'Prep\\n15 m\\nCook\\n40 m\\nReady...</td>\n",
       "    </tr>\n",
       "    <tr>\n",
       "      <th>2</th>\n",
       "      <td>26</td>\n",
       "      <td>70589</td>\n",
       "      <td>Serbian ground beef veggie potato bake</td>\n",
       "      <td>NaN</td>\n",
       "      <td>3</td>\n",
       "      <td>1</td>\n",
       "      <td>0</td>\n",
       "      <td>0</td>\n",
       "      <td>1</td>\n",
       "      <td>ground beef olive oil green bell pepper onion ...</td>\n",
       "      <td>{'directions': u'Prep\\n25 m\\nCook\\n1 h\\nReady ...</td>\n",
       "    </tr>\n",
       "  </tbody>\n",
       "</table>\n",
       "</div>"
      ],
      "text/plain": [
       "   index  recipe_id                             recipe_name  user_id  rating  \\\n",
       "0     24      56648                          Gravy potatoes      NaN       3   \n",
       "1     25      74224                           meat loaf pie      NaN       3   \n",
       "2     26      70589  Serbian ground beef veggie potato bake      NaN       3   \n",
       "\n",
       "   Query 1  Query 2  Query 3  Query 4  \\\n",
       "0        0        0        0        1   \n",
       "1        0        0        0        1   \n",
       "2        1        0        0        1   \n",
       "\n",
       "                                         ingredients  \\\n",
       "0  baking potatoes ground beef small onion conden...   \n",
       "1  ground beef small onion egg ketchup worcesters...   \n",
       "2  ground beef olive oil green bell pepper onion ...   \n",
       "\n",
       "                                  cooking_directions  \n",
       "0  {'directions': u'Prep\\n5 m\\nCook\\n1 h 15 m\\nRe...  \n",
       "1  {'directions': u'Prep\\n15 m\\nCook\\n40 m\\nReady...  \n",
       "2  {'directions': u'Prep\\n25 m\\nCook\\n1 h\\nReady ...  "
      ]
     },
     "execution_count": 3,
     "metadata": {},
     "output_type": "execute_result"
    }
   ],
   "source": [
    "eval_recipe.head(3)"
   ]
  },
  {
   "cell_type": "markdown",
   "id": "d539a6ee",
   "metadata": {},
   "source": [
    "As you can see, each recipe has a score of 1 or 0 based on whether they are a relevant recipe to Query 1-4.\n",
    "It is important to note that these scores were made arbitrarily based on the judgment of one DS member. Therefore we advise that the results of this evaluation to be taken with a grain of salt.\n",
    "\n",
    "In this evaluation method, the recommendation model will vectorize the recipes in the model dataset, and match the query to the recipes in this dataset. By calling the evaluation function:\n",
    "\n",
    "`[compiled_relevancy_score, rec_df]  = PrecRec_eval(model_df,threshold, prediction_model)`\n",
    "\n",
    "where `model_df` is eval_recipe , `threshold` is the number of results/recipes you want to evaluate for precision/recall analysis, and `prediction model` is the prediction model. The list of `prediction model` is inside the file **func_predict.py**\n",
    "\n",
    "An example of the usage of this function is:\n",
    "\n",
    " `[compiled_relevancy_score, rec_df]  = eve.PrecRec_eval(eval_recipe, 7, \"cosine_similarity\")`\n",
    "\n",
    " `compiled_relevancy_score` is an array of 1s and 0s, i.e. \n",
    " \n",
    " `[array([0, 0, 1, 0, 0, 0, 1], dtype=int64),\n",
    " array([1, 1, 1, 0, 1, 1, 0], dtype=int64),\n",
    " array([1, 0, 1, 0, 0, 0, 0], dtype=int64),\n",
    " array([1, 1, 0, 1, 0, 0, 1], dtype=int64)]`\n",
    " \n",
    "which is an indication whether the first *n* recipes are relevant(1) or irrelevant(0) to queries 1 to 4. The first row belongs to results to query 1, and so on and so forth.\n",
    "\n",
    "Taking the example of `array([1, 1, 0, 1, 0, 0, 1], dtype=int64)` , our result shows that recipe 1,2, 4 and 7 are relevant, while the rest are irrelevant. \n",
    " \n",
    " `rec_df` is the table of results showing the recipe_name and the similarity_score computed by the model\n",
    "\n",
    "\n",
    "In our model dataset, there are only **7 recipes** which are relevant to each queries. Therefore, we can only evaluate the top 7 recipes as a maximum.\n",
    "\n",
    "***********************************"
   ]
  },
  {
   "cell_type": "markdown",
   "id": "fbbe80f4",
   "metadata": {},
   "source": [
    "# Evaluation of Model 1:\n",
    "Details of Model 1: \n",
    "- The model vectorizes the 'cooking directions' text to represent the vector of the recipe\n",
    "- cosine similarity function in func_predict.py was used "
   ]
  },
  {
   "cell_type": "code",
   "execution_count": 4,
   "id": "ecfe6594",
   "metadata": {},
   "outputs": [],
   "source": [
    "processed_text = []    #processed text of the whole dataset\n",
    "for text in rd_recipe['cooking_directions']:\n",
    "    processed_text.append(word_tokenize(pp.preprocess(text)))"
   ]
  },
  {
   "cell_type": "code",
   "execution_count": 5,
   "id": "b129d67c",
   "metadata": {},
   "outputs": [],
   "source": [
    "[D, DF, N] = tfidf.vectorize_corpus(processed_text)"
   ]
  },
  {
   "cell_type": "code",
   "execution_count": 6,
   "id": "da1aeb23",
   "metadata": {},
   "outputs": [],
   "source": [
    "user_query = \"chicken, lemon\" # try a variety of queries yourself"
   ]
  },
  {
   "cell_type": "code",
   "execution_count": 7,
   "id": "9a0a6da6",
   "metadata": {},
   "outputs": [],
   "source": [
    "[ result_index , result_score] = pred.cosine_similarity(7, user_query, D , DF, N)"
   ]
  },
  {
   "cell_type": "markdown",
   "id": "277b26f7",
   "metadata": {},
   "source": [
    "The results is summarized below"
   ]
  },
  {
   "cell_type": "code",
   "execution_count": 8,
   "id": "08a0881b",
   "metadata": {},
   "outputs": [
    {
     "data": {
      "text/html": [
       "<div>\n",
       "<style scoped>\n",
       "    .dataframe tbody tr th:only-of-type {\n",
       "        vertical-align: middle;\n",
       "    }\n",
       "\n",
       "    .dataframe tbody tr th {\n",
       "        vertical-align: top;\n",
       "    }\n",
       "\n",
       "    .dataframe thead th {\n",
       "        text-align: right;\n",
       "    }\n",
       "</style>\n",
       "<table border=\"1\" class=\"dataframe\">\n",
       "  <thead>\n",
       "    <tr style=\"text-align: right;\">\n",
       "      <th></th>\n",
       "      <th>recipe_index</th>\n",
       "      <th>similarity_score</th>\n",
       "    </tr>\n",
       "  </thead>\n",
       "  <tbody>\n",
       "    <tr>\n",
       "      <th>0</th>\n",
       "      <td>8608</td>\n",
       "      <td>53.026522</td>\n",
       "    </tr>\n",
       "    <tr>\n",
       "      <th>1</th>\n",
       "      <td>10741</td>\n",
       "      <td>52.885447</td>\n",
       "    </tr>\n",
       "    <tr>\n",
       "      <th>2</th>\n",
       "      <td>5545</td>\n",
       "      <td>52.307209</td>\n",
       "    </tr>\n",
       "    <tr>\n",
       "      <th>3</th>\n",
       "      <td>12051</td>\n",
       "      <td>51.746265</td>\n",
       "    </tr>\n",
       "    <tr>\n",
       "      <th>4</th>\n",
       "      <td>11254</td>\n",
       "      <td>50.056272</td>\n",
       "    </tr>\n",
       "    <tr>\n",
       "      <th>5</th>\n",
       "      <td>4057</td>\n",
       "      <td>48.897255</td>\n",
       "    </tr>\n",
       "    <tr>\n",
       "      <th>6</th>\n",
       "      <td>8303</td>\n",
       "      <td>48.633147</td>\n",
       "    </tr>\n",
       "  </tbody>\n",
       "</table>\n",
       "</div>"
      ],
      "text/plain": [
       "   recipe_index  similarity_score\n",
       "0          8608         53.026522\n",
       "1         10741         52.885447\n",
       "2          5545         52.307209\n",
       "3         12051         51.746265\n",
       "4         11254         50.056272\n",
       "5          4057         48.897255\n",
       "6          8303         48.633147"
      ]
     },
     "execution_count": 8,
     "metadata": {},
     "output_type": "execute_result"
    }
   ],
   "source": [
    "res_df = pd.DataFrame(columns=['recipe_index','similarity_score'])\n",
    "res_df.loc[:, 'recipe_index'] = result_index\n",
    "res_df.loc[:,'similarity_score'] = result_score*100\n",
    "res_df"
   ]
  },
  {
   "cell_type": "markdown",
   "id": "2f116cad",
   "metadata": {},
   "source": [
    "The first evaluation function "
   ]
  },
  {
   "cell_type": "code",
   "execution_count": 30,
   "id": "40330a1a",
   "metadata": {},
   "outputs": [],
   "source": [
    "import sys, importlib\n",
    "importlib.reload(sys.modules['func_eval'])\n",
    "import func_eval as eve"
   ]
  },
  {
   "cell_type": "code",
   "execution_count": 27,
   "id": "4e88a8d8",
   "metadata": {},
   "outputs": [
    {
     "data": {
      "text/html": [
       "<div>\n",
       "<style scoped>\n",
       "    .dataframe tbody tr th:only-of-type {\n",
       "        vertical-align: middle;\n",
       "    }\n",
       "\n",
       "    .dataframe tbody tr th {\n",
       "        vertical-align: top;\n",
       "    }\n",
       "\n",
       "    .dataframe thead th {\n",
       "        text-align: right;\n",
       "    }\n",
       "</style>\n",
       "<table border=\"1\" class=\"dataframe\">\n",
       "  <thead>\n",
       "    <tr style=\"text-align: right;\">\n",
       "      <th></th>\n",
       "      <th>id</th>\n",
       "      <th>ingredient</th>\n",
       "      <th>percent</th>\n",
       "    </tr>\n",
       "  </thead>\n",
       "  <tbody>\n",
       "    <tr>\n",
       "      <th>0</th>\n",
       "      <td>8608</td>\n",
       "      <td>[olive, oil, fresh, lemon, juice, fresh, lemon...</td>\n",
       "      <td>1.0</td>\n",
       "    </tr>\n",
       "    <tr>\n",
       "      <th>1</th>\n",
       "      <td>10741</td>\n",
       "      <td>[lemon, juice, salt, rosemary, garlic, seasoni...</td>\n",
       "      <td>1.0</td>\n",
       "    </tr>\n",
       "    <tr>\n",
       "      <th>2</th>\n",
       "      <td>5545</td>\n",
       "      <td>[chicken, butter, large, lemon, halved, head, ...</td>\n",
       "      <td>1.0</td>\n",
       "    </tr>\n",
       "    <tr>\n",
       "      <th>3</th>\n",
       "      <td>12051</td>\n",
       "      <td>[skinless, boneless, chicken, breast, halves, ...</td>\n",
       "      <td>1.0</td>\n",
       "    </tr>\n",
       "    <tr>\n",
       "      <th>4</th>\n",
       "      <td>11254</td>\n",
       "      <td>[skinless, boneless, chicken, breasts, egg, le...</td>\n",
       "      <td>1.0</td>\n",
       "    </tr>\n",
       "    <tr>\n",
       "      <th>5</th>\n",
       "      <td>4057</td>\n",
       "      <td>[skinless, boneless, chicken, breast, halves, ...</td>\n",
       "      <td>1.0</td>\n",
       "    </tr>\n",
       "    <tr>\n",
       "      <th>6</th>\n",
       "      <td>8303</td>\n",
       "      <td>[cream, chicken, soup, water, lemon, juice, bu...</td>\n",
       "      <td>1.0</td>\n",
       "    </tr>\n",
       "  </tbody>\n",
       "</table>\n",
       "</div>"
      ],
      "text/plain": [
       "      id                                         ingredient  percent\n",
       "0   8608  [olive, oil, fresh, lemon, juice, fresh, lemon...      1.0\n",
       "1  10741  [lemon, juice, salt, rosemary, garlic, seasoni...      1.0\n",
       "2   5545  [chicken, butter, large, lemon, halved, head, ...      1.0\n",
       "3  12051  [skinless, boneless, chicken, breast, halves, ...      1.0\n",
       "4  11254  [skinless, boneless, chicken, breasts, egg, le...      1.0\n",
       "5   4057  [skinless, boneless, chicken, breast, halves, ...      1.0\n",
       "6   8303  [cream, chicken, soup, water, lemon, juice, bu...      1.0"
      ]
     },
     "execution_count": 27,
     "metadata": {},
     "output_type": "execute_result"
    }
   ],
   "source": [
    "eve.effectivity_eval( result_index, user_query,rd_recipe)"
   ]
  },
  {
   "cell_type": "markdown",
   "id": "f1549763",
   "metadata": {},
   "source": [
    "The second evaluation function"
   ]
  },
  {
   "cell_type": "code",
   "execution_count": 31,
   "id": "3e9e8bda",
   "metadata": {},
   "outputs": [
    {
     "name": "stdout",
     "output_type": "stream",
     "text": [
      "Performing 4 queries on the model dataset...\n",
      "Query 1 : beef, salt, pepper \n",
      "Query 2 : chicken, cream \n",
      "Query 3 : noodles, chicken \n",
      "Query 4 : beef, potatoes \n"
     ]
    },
    {
     "data": {
      "text/plain": [
       "[array([0, 0, 1, 0, 0, 0, 1], dtype=int64),\n",
       " array([1, 1, 1, 0, 1, 1, 0], dtype=int64),\n",
       " array([1, 0, 1, 0, 0, 0, 0], dtype=int64),\n",
       " array([1, 0, 1, 1, 0, 0, 1], dtype=int64)]"
      ]
     },
     "execution_count": 31,
     "metadata": {},
     "output_type": "execute_result"
    }
   ],
   "source": [
    "[compiled_relevancy_score, rec_df] = eve.PrecRec_eval(eval_recipe, 7, \"cosine_similarity\")\n",
    "compiled_relevancy_score"
   ]
  },
  {
   "cell_type": "code",
   "execution_count": 32,
   "id": "c348fc50",
   "metadata": {},
   "outputs": [
    {
     "data": {
      "text/html": [
       "<div>\n",
       "<style scoped>\n",
       "    .dataframe tbody tr th:only-of-type {\n",
       "        vertical-align: middle;\n",
       "    }\n",
       "\n",
       "    .dataframe tbody tr th {\n",
       "        vertical-align: top;\n",
       "    }\n",
       "\n",
       "    .dataframe thead th {\n",
       "        text-align: right;\n",
       "    }\n",
       "</style>\n",
       "<table border=\"1\" class=\"dataframe\">\n",
       "  <thead>\n",
       "    <tr style=\"text-align: right;\">\n",
       "      <th></th>\n",
       "      <th>Query1</th>\n",
       "      <th>sim_score_1</th>\n",
       "      <th>Query2</th>\n",
       "      <th>sim_score_2</th>\n",
       "      <th>Query3</th>\n",
       "      <th>sim_score_3</th>\n",
       "      <th>Query4</th>\n",
       "      <th>sim_score_4</th>\n",
       "    </tr>\n",
       "  </thead>\n",
       "  <tbody>\n",
       "    <tr>\n",
       "      <th>0</th>\n",
       "      <td>meat loaf pie</td>\n",
       "      <td>0.435458</td>\n",
       "      <td>chicken la charlie</td>\n",
       "      <td>0.545421</td>\n",
       "      <td>spicy chicken noodle soup</td>\n",
       "      <td>0.384131</td>\n",
       "      <td>Gravy potatoes</td>\n",
       "      <td>0.447061</td>\n",
       "    </tr>\n",
       "    <tr>\n",
       "      <th>1</th>\n",
       "      <td>Nana's Beef Stroganoff</td>\n",
       "      <td>0.398370</td>\n",
       "      <td>Easy Cheesy Chicken I</td>\n",
       "      <td>0.448053</td>\n",
       "      <td>reuben casserole egg noodles</td>\n",
       "      <td>0.321552</td>\n",
       "      <td>better help hamburger</td>\n",
       "      <td>0.436586</td>\n",
       "    </tr>\n",
       "    <tr>\n",
       "      <th>2</th>\n",
       "      <td>Serbian ground beef veggie potato bake</td>\n",
       "      <td>0.359882</td>\n",
       "      <td>Easy Creamy Chicken Casserole</td>\n",
       "      <td>0.408082</td>\n",
       "      <td>white cheese chicken lasagna</td>\n",
       "      <td>0.304852</td>\n",
       "      <td>meat loaf pie</td>\n",
       "      <td>0.435911</td>\n",
       "    </tr>\n",
       "    <tr>\n",
       "      <th>3</th>\n",
       "      <td>Special Irish Beef Stew</td>\n",
       "      <td>0.292270</td>\n",
       "      <td>Easy Devonshire Cream</td>\n",
       "      <td>0.358670</td>\n",
       "      <td>Mike's Maple Chicken</td>\n",
       "      <td>0.285885</td>\n",
       "      <td>Serbian ground beef veggie potato bake</td>\n",
       "      <td>0.406761</td>\n",
       "    </tr>\n",
       "    <tr>\n",
       "      <th>4</th>\n",
       "      <td>Steff's Shepherd Pie</td>\n",
       "      <td>0.281428</td>\n",
       "      <td>Lizzy's Creamy Chicken Bake</td>\n",
       "      <td>0.350126</td>\n",
       "      <td>top ramen</td>\n",
       "      <td>0.281275</td>\n",
       "      <td>spiced potatoes</td>\n",
       "      <td>0.404776</td>\n",
       "    </tr>\n",
       "    <tr>\n",
       "      <th>5</th>\n",
       "      <td>better help hamburger</td>\n",
       "      <td>0.196813</td>\n",
       "      <td>Swiss Sherry Chicken</td>\n",
       "      <td>0.328089</td>\n",
       "      <td>Garlic Chicken, Vegetable and Rice Skillet</td>\n",
       "      <td>0.262133</td>\n",
       "      <td>Nana's Beef Stroganoff</td>\n",
       "      <td>0.326788</td>\n",
       "    </tr>\n",
       "    <tr>\n",
       "      <th>6</th>\n",
       "      <td>Savory Vegetable Beef Stew</td>\n",
       "      <td>0.193243</td>\n",
       "      <td>Mike's Maple Chicken</td>\n",
       "      <td>0.295445</td>\n",
       "      <td>Simple and Easy Coq au Vin</td>\n",
       "      <td>0.262111</td>\n",
       "      <td>Steff's Shepherd Pie</td>\n",
       "      <td>0.313023</td>\n",
       "    </tr>\n",
       "  </tbody>\n",
       "</table>\n",
       "</div>"
      ],
      "text/plain": [
       "                                   Query1  sim_score_1  \\\n",
       "0                           meat loaf pie     0.435458   \n",
       "1                  Nana's Beef Stroganoff     0.398370   \n",
       "2  Serbian ground beef veggie potato bake     0.359882   \n",
       "3                 Special Irish Beef Stew     0.292270   \n",
       "4                    Steff's Shepherd Pie     0.281428   \n",
       "5                   better help hamburger     0.196813   \n",
       "6              Savory Vegetable Beef Stew     0.193243   \n",
       "\n",
       "                          Query2  sim_score_2  \\\n",
       "0             chicken la charlie     0.545421   \n",
       "1          Easy Cheesy Chicken I     0.448053   \n",
       "2  Easy Creamy Chicken Casserole     0.408082   \n",
       "3          Easy Devonshire Cream     0.358670   \n",
       "4    Lizzy's Creamy Chicken Bake     0.350126   \n",
       "5           Swiss Sherry Chicken     0.328089   \n",
       "6           Mike's Maple Chicken     0.295445   \n",
       "\n",
       "                                       Query3  sim_score_3  \\\n",
       "0                   spicy chicken noodle soup     0.384131   \n",
       "1                reuben casserole egg noodles     0.321552   \n",
       "2                white cheese chicken lasagna     0.304852   \n",
       "3                        Mike's Maple Chicken     0.285885   \n",
       "4                                   top ramen     0.281275   \n",
       "5  Garlic Chicken, Vegetable and Rice Skillet     0.262133   \n",
       "6                  Simple and Easy Coq au Vin     0.262111   \n",
       "\n",
       "                                   Query4  sim_score_4  \n",
       "0                          Gravy potatoes     0.447061  \n",
       "1                   better help hamburger     0.436586  \n",
       "2                           meat loaf pie     0.435911  \n",
       "3  Serbian ground beef veggie potato bake     0.406761  \n",
       "4                         spiced potatoes     0.404776  \n",
       "5                  Nana's Beef Stroganoff     0.326788  \n",
       "6                    Steff's Shepherd Pie     0.313023  "
      ]
     },
     "execution_count": 32,
     "metadata": {},
     "output_type": "execute_result"
    }
   ],
   "source": [
    "rec_df"
   ]
  },
  {
   "cell_type": "markdown",
   "id": "e91ae0f0",
   "metadata": {},
   "source": [
    "For the first analysis, we want to produce a precision/recall score for the 4 queries. We first need to create an array for predicted relevancy score. Since our model lists the recipe match in descending order, we will set all of our relevancy score to 1. "
   ]
  },
  {
   "cell_type": "code",
   "execution_count": 11,
   "id": "104ddabb",
   "metadata": {},
   "outputs": [
    {
     "data": {
      "text/plain": [
       "array([[1., 1., 1., 1., 1., 1., 1.],\n",
       "       [1., 1., 1., 1., 1., 1., 1.],\n",
       "       [1., 1., 1., 1., 1., 1., 1.],\n",
       "       [1., 1., 1., 1., 1., 1., 1.]])"
      ]
     },
     "execution_count": 11,
     "metadata": {},
     "output_type": "execute_result"
    }
   ],
   "source": [
    "y_pred = np.ones((4,7))\n",
    "y_pred"
   ]
  },
  {
   "cell_type": "code",
   "execution_count": 18,
   "id": "b5a58c2b",
   "metadata": {},
   "outputs": [
    {
     "data": {
      "text/plain": [
       "(7,)"
      ]
     },
     "execution_count": 18,
     "metadata": {},
     "output_type": "execute_result"
    }
   ],
   "source": [
    "np.shape(compiled_relevancy_score[0])"
   ]
  },
  {
   "cell_type": "code",
   "execution_count": 25,
   "id": "9f68e4ab",
   "metadata": {},
   "outputs": [
    {
     "name": "stdout",
     "output_type": "stream",
     "text": [
      "The precision score of the model is [0.08163265306122448, 0.5102040816326531, 0.08163265306122448, 0.32653061224489793]\n",
      "The recall score of the model is [0.2857142857142857, 0.7142857142857143, 0.2857142857142857, 0.5714285714285714]\n"
     ]
    }
   ],
   "source": [
    "precision = []\n",
    "recall = []\n",
    "for f in range(0,len(compiled_relevancy_score)):\n",
    "    precision.append(met.precision_score(compiled_relevancy_score[f], y_pred[f], average='weighted', zero_division = 0))\n",
    "    recall.append(met.recall_score(compiled_relevancy_score[f], y_pred[f], average='weighted' , zero_division = 0 ))\n",
    "\n",
    "print(\"The precision score of the model is {}\".format(precision))\n",
    "print(\"The recall score of the model is {}\".format(recall))"
   ]
  },
  {
   "cell_type": "markdown",
   "id": "99f2891b",
   "metadata": {},
   "source": [
    "I've started the analysis for you.. now it's your turn to continue! You can choose whether to use both functions or just one. It all just depends on your comfort-zone."
   ]
  },
  {
   "cell_type": "markdown",
   "id": "d55107cf",
   "metadata": {},
   "source": [
    "# Evaluation of Model 2\n",
    "\n",
    "Details of Model 2: \n",
    "- The model vectorizes both the 'cooking directions' + 'ingredients' text to represent the vector of the recipe\n",
    "- cosine similarity function in func_predict.py was used \n",
    "\n",
    "Loading the model..."
   ]
  },
  {
   "cell_type": "code",
   "execution_count": null,
   "id": "7c388037",
   "metadata": {},
   "outputs": [],
   "source": [
    "rd_recipe['dir_and_ingredients'] = rd_recipe['cooking_directions'] + rd_recipe['ingredients']"
   ]
  },
  {
   "cell_type": "code",
   "execution_count": null,
   "id": "63de990e",
   "metadata": {},
   "outputs": [],
   "source": [
    "processed_text_2 = []    #processed text of the whole dataset\n",
    "for text in rd_recipe['dir_and_ingredients']:\n",
    "    processed_text_2.append(word_tokenize(pp.preprocess(text)))"
   ]
  },
  {
   "cell_type": "code",
   "execution_count": null,
   "id": "3fe824f0",
   "metadata": {},
   "outputs": [],
   "source": [
    "[D_2, DF_2, N_2] = tfidf.vectorize_corpus(processed_text_2)"
   ]
  },
  {
   "cell_type": "code",
   "execution_count": null,
   "id": "64c74c49",
   "metadata": {},
   "outputs": [],
   "source": [
    "[ result_index_2 , result_score_2] = pred.cosine_similarity(7, user_query, D_2 , DF_2, N_2)"
   ]
  },
  {
   "cell_type": "code",
   "execution_count": null,
   "id": "27e68fdc",
   "metadata": {},
   "outputs": [],
   "source": [
    "result_index_2"
   ]
  },
  {
   "cell_type": "markdown",
   "id": "23b8fc0a",
   "metadata": {},
   "source": [
    "Do an evaluation of Model 2!"
   ]
  },
  {
   "cell_type": "markdown",
   "id": "5c571230",
   "metadata": {},
   "source": [
    "# Evaluation of Model 3\n",
    "\n",
    "Details of Model 3: \n",
    "- The model vectorizes the 'cooking directions' text to represent the vector of the recipe\n",
    "- eucledian spatial distance was used to calculate vector distance  "
   ]
  },
  {
   "cell_type": "code",
   "execution_count": null,
   "id": "0d454da0",
   "metadata": {},
   "outputs": [],
   "source": [
    "from scipy.spatial.distance import euclidean"
   ]
  },
  {
   "cell_type": "code",
   "execution_count": null,
   "id": "b0c7000e",
   "metadata": {},
   "outputs": [],
   "source": [
    "[ result_index_3 , result_score_3] = pred.euclidean_similarity(7, user_query, D , DF, N)"
   ]
  },
  {
   "cell_type": "code",
   "execution_count": null,
   "id": "632bbfac",
   "metadata": {},
   "outputs": [],
   "source": [
    "result_index_3"
   ]
  },
  {
   "cell_type": "markdown",
   "id": "aeb93c00",
   "metadata": {},
   "source": [
    "Do an evaluation of Model 3!"
   ]
  },
  {
   "cell_type": "markdown",
   "id": "79c7ab13",
   "metadata": {},
   "source": []
  }
 ],
 "metadata": {
  "kernelspec": {
   "display_name": "Python 3 (ipykernel)",
   "language": "python",
   "name": "python3"
  },
  "language_info": {
   "codemirror_mode": {
    "name": "ipython",
    "version": 3
   },
   "file_extension": ".py",
   "mimetype": "text/x-python",
   "name": "python",
   "nbconvert_exporter": "python",
   "pygments_lexer": "ipython3",
   "version": "3.9.7"
  }
 },
 "nbformat": 4,
 "nbformat_minor": 5
}
